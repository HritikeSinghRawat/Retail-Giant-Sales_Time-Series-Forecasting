{
 "cells": [
  {
   "cell_type": "markdown",
   "id": "3ad89a05",
   "metadata": {
    "papermill": {
     "duration": 0.06494,
     "end_time": "2022-01-23T10:08:10.384427",
     "exception": false,
     "start_time": "2022-01-23T10:08:10.319487",
     "status": "completed"
    },
    "tags": []
   },
   "source": [
    "# Retail Giant Sales Forecasting Assignment"
   ]
  },
  {
   "cell_type": "markdown",
   "id": "80dfaec1",
   "metadata": {
    "papermill": {
     "duration": 0.062095,
     "end_time": "2022-01-23T10:08:10.511112",
     "exception": false,
     "start_time": "2022-01-23T10:08:10.449017",
     "status": "completed"
    },
    "tags": []
   },
   "source": [
    "![](https://sopsa.org/wp-content/uploads/2020/07/Sales-Forecast.jpeg)"
   ]
  },
  {
   "cell_type": "markdown",
   "id": "4fb06e99",
   "metadata": {
    "papermill": {
     "duration": 0.062674,
     "end_time": "2022-01-23T10:08:10.636794",
     "exception": false,
     "start_time": "2022-01-23T10:08:10.574120",
     "status": "completed"
    },
    "tags": []
   },
   "source": [
    "Global Mart is an online supergiant store that has worldwide operations. This store takes orders and delivers across the globe and deals with all the major product categories — consumer, corporate and home office.\n",
    "We need to find out the most consistently profitable market-segment from all and forecast the sales and demand for that single market-segment."
   ]
  },
  {
   "cell_type": "markdown",
   "id": "3d30291e",
   "metadata": {
    "papermill": {
     "duration": 0.062172,
     "end_time": "2022-01-23T10:08:10.762653",
     "exception": false,
     "start_time": "2022-01-23T10:08:10.700481",
     "status": "completed"
    },
    "tags": []
   },
   "source": [
    "### Import required packages"
   ]
  },
  {
   "cell_type": "code",
   "execution_count": 1,
   "id": "8887bcbc",
   "metadata": {
    "execution": {
     "iopub.execute_input": "2022-01-23T10:08:10.893669Z",
     "iopub.status.busy": "2022-01-23T10:08:10.892345Z",
     "iopub.status.idle": "2022-01-23T10:08:10.905606Z",
     "shell.execute_reply": "2022-01-23T10:08:10.906170Z",
     "shell.execute_reply.started": "2022-01-23T10:05:54.763303Z"
    },
    "papermill": {
     "duration": 0.081063,
     "end_time": "2022-01-23T10:08:10.906491",
     "exception": false,
     "start_time": "2022-01-23T10:08:10.825428",
     "status": "completed"
    },
    "tags": []
   },
   "outputs": [],
   "source": [
    "import pandas as pd \n",
    "import numpy as np \n",
    "import matplotlib.pyplot as plt\n",
    "%matplotlib inline\n",
    "\n",
    "import warnings\n",
    "warnings.filterwarnings(\"ignore\")"
   ]
  },
  {
   "cell_type": "markdown",
   "id": "dec81edf",
   "metadata": {
    "papermill": {
     "duration": 0.062187,
     "end_time": "2022-01-23T10:08:11.032670",
     "exception": false,
     "start_time": "2022-01-23T10:08:10.970483",
     "status": "completed"
    },
    "tags": []
   },
   "source": [
    "### Reading the Dataset"
   ]
  },
  {
   "cell_type": "code",
   "execution_count": 2,
   "id": "9a5e6afe",
   "metadata": {
    "execution": {
     "iopub.execute_input": "2022-01-23T10:08:11.162018Z",
     "iopub.status.busy": "2022-01-23T10:08:11.161330Z",
     "iopub.status.idle": "2022-01-23T10:08:11.276425Z",
     "shell.execute_reply": "2022-01-23T10:08:11.276926Z",
     "shell.execute_reply.started": "2022-01-23T10:05:54.773603Z"
    },
    "papermill": {
     "duration": 0.18157,
     "end_time": "2022-01-23T10:08:11.277111",
     "exception": false,
     "start_time": "2022-01-23T10:08:11.095541",
     "status": "completed"
    },
    "tags": []
   },
   "outputs": [
    {
     "data": {
      "text/html": [
       "<div>\n",
       "<style scoped>\n",
       "    .dataframe tbody tr th:only-of-type {\n",
       "        vertical-align: middle;\n",
       "    }\n",
       "\n",
       "    .dataframe tbody tr th {\n",
       "        vertical-align: top;\n",
       "    }\n",
       "\n",
       "    .dataframe thead th {\n",
       "        text-align: right;\n",
       "    }\n",
       "</style>\n",
       "<table border=\"1\" class=\"dataframe\">\n",
       "  <thead>\n",
       "    <tr style=\"text-align: right;\">\n",
       "      <th></th>\n",
       "      <th>Order Date</th>\n",
       "      <th>Segment</th>\n",
       "      <th>Market</th>\n",
       "      <th>Sales</th>\n",
       "      <th>Profit</th>\n",
       "    </tr>\n",
       "  </thead>\n",
       "  <tbody>\n",
       "    <tr>\n",
       "      <th>0</th>\n",
       "      <td>31-07-2012</td>\n",
       "      <td>Consumer</td>\n",
       "      <td>US</td>\n",
       "      <td>2309.650</td>\n",
       "      <td>762.1845</td>\n",
       "    </tr>\n",
       "    <tr>\n",
       "      <th>1</th>\n",
       "      <td>05-02-2013</td>\n",
       "      <td>Corporate</td>\n",
       "      <td>APAC</td>\n",
       "      <td>3709.395</td>\n",
       "      <td>-288.7650</td>\n",
       "    </tr>\n",
       "    <tr>\n",
       "      <th>2</th>\n",
       "      <td>17-10-2013</td>\n",
       "      <td>Consumer</td>\n",
       "      <td>APAC</td>\n",
       "      <td>5175.171</td>\n",
       "      <td>919.9710</td>\n",
       "    </tr>\n",
       "    <tr>\n",
       "      <th>3</th>\n",
       "      <td>28-01-2013</td>\n",
       "      <td>Home Office</td>\n",
       "      <td>EU</td>\n",
       "      <td>2892.510</td>\n",
       "      <td>-96.5400</td>\n",
       "    </tr>\n",
       "    <tr>\n",
       "      <th>4</th>\n",
       "      <td>05-11-2013</td>\n",
       "      <td>Consumer</td>\n",
       "      <td>Africa</td>\n",
       "      <td>2832.960</td>\n",
       "      <td>311.5200</td>\n",
       "    </tr>\n",
       "  </tbody>\n",
       "</table>\n",
       "</div>"
      ],
      "text/plain": [
       "   Order Date      Segment  Market     Sales    Profit\n",
       "0  31-07-2012     Consumer      US  2309.650  762.1845\n",
       "1  05-02-2013    Corporate    APAC  3709.395 -288.7650\n",
       "2  17-10-2013     Consumer    APAC  5175.171  919.9710\n",
       "3  28-01-2013  Home Office      EU  2892.510  -96.5400\n",
       "4  05-11-2013     Consumer  Africa  2832.960  311.5200"
      ]
     },
     "execution_count": 2,
     "metadata": {},
     "output_type": "execute_result"
    }
   ],
   "source": [
    "data = pd.read_csv('../input/global-superstore/GlobalSuperstoreData.csv')\n",
    "data.head()"
   ]
  },
  {
   "cell_type": "markdown",
   "id": "2c584cd4",
   "metadata": {
    "papermill": {
     "duration": 0.063379,
     "end_time": "2022-01-23T10:08:11.404339",
     "exception": false,
     "start_time": "2022-01-23T10:08:11.340960",
     "status": "completed"
    },
    "tags": []
   },
   "source": [
    "### Convering the Order Date into Month Year format"
   ]
  },
  {
   "cell_type": "code",
   "execution_count": 3,
   "id": "94ae804f",
   "metadata": {
    "execution": {
     "iopub.execute_input": "2022-01-23T10:08:11.535079Z",
     "iopub.status.busy": "2022-01-23T10:08:11.534425Z",
     "iopub.status.idle": "2022-01-23T10:08:11.629462Z",
     "shell.execute_reply": "2022-01-23T10:08:11.629961Z",
     "shell.execute_reply.started": "2022-01-23T10:05:54.856772Z"
    },
    "papermill": {
     "duration": 0.161931,
     "end_time": "2022-01-23T10:08:11.630141",
     "exception": false,
     "start_time": "2022-01-23T10:08:11.468210",
     "status": "completed"
    },
    "tags": []
   },
   "outputs": [],
   "source": [
    "data['Order Date'] = pd.to_datetime(data['Order Date']).dt.to_period('m')"
   ]
  },
  {
   "cell_type": "code",
   "execution_count": 4,
   "id": "0f334715",
   "metadata": {
    "execution": {
     "iopub.execute_input": "2022-01-23T10:08:11.762941Z",
     "iopub.status.busy": "2022-01-23T10:08:11.762272Z",
     "iopub.status.idle": "2022-01-23T10:08:11.795418Z",
     "shell.execute_reply": "2022-01-23T10:08:11.796146Z",
     "shell.execute_reply.started": "2022-01-23T10:05:54.951669Z"
    },
    "papermill": {
     "duration": 0.101074,
     "end_time": "2022-01-23T10:08:11.796379",
     "exception": false,
     "start_time": "2022-01-23T10:08:11.695305",
     "status": "completed"
    },
    "tags": []
   },
   "outputs": [
    {
     "name": "stdout",
     "output_type": "stream",
     "text": [
      "<class 'pandas.core.frame.DataFrame'>\n",
      "RangeIndex: 51290 entries, 0 to 51289\n",
      "Data columns (total 5 columns):\n",
      " #   Column      Non-Null Count  Dtype    \n",
      "---  ------      --------------  -----    \n",
      " 0   Order Date  51290 non-null  period[M]\n",
      " 1   Segment     51290 non-null  object   \n",
      " 2   Market      51290 non-null  object   \n",
      " 3   Sales       51290 non-null  float64  \n",
      " 4   Profit      51290 non-null  float64  \n",
      "dtypes: float64(2), object(2), period[M](1)\n",
      "memory usage: 2.0+ MB\n"
     ]
    }
   ],
   "source": [
    "data.info()"
   ]
  },
  {
   "cell_type": "markdown",
   "id": "29ab9d1b",
   "metadata": {
    "papermill": {
     "duration": 0.06529,
     "end_time": "2022-01-23T10:08:11.926931",
     "exception": false,
     "start_time": "2022-01-23T10:08:11.861641",
     "status": "completed"
    },
    "tags": []
   },
   "source": [
    "### Merging the Market and Segment columns to get Unique Market Segments"
   ]
  },
  {
   "cell_type": "code",
   "execution_count": 5,
   "id": "c8402aa8",
   "metadata": {
    "execution": {
     "iopub.execute_input": "2022-01-23T10:08:12.061474Z",
     "iopub.status.busy": "2022-01-23T10:08:12.060824Z",
     "iopub.status.idle": "2022-01-23T10:08:12.103814Z",
     "shell.execute_reply": "2022-01-23T10:08:12.103109Z",
     "shell.execute_reply.started": "2022-01-23T10:05:54.981505Z"
    },
    "papermill": {
     "duration": 0.111527,
     "end_time": "2022-01-23T10:08:12.103971",
     "exception": false,
     "start_time": "2022-01-23T10:08:11.992444",
     "status": "completed"
    },
    "tags": []
   },
   "outputs": [
    {
     "data": {
      "text/html": [
       "<div>\n",
       "<style scoped>\n",
       "    .dataframe tbody tr th:only-of-type {\n",
       "        vertical-align: middle;\n",
       "    }\n",
       "\n",
       "    .dataframe tbody tr th {\n",
       "        vertical-align: top;\n",
       "    }\n",
       "\n",
       "    .dataframe thead th {\n",
       "        text-align: right;\n",
       "    }\n",
       "</style>\n",
       "<table border=\"1\" class=\"dataframe\">\n",
       "  <thead>\n",
       "    <tr style=\"text-align: right;\">\n",
       "      <th></th>\n",
       "      <th>Order Date</th>\n",
       "      <th>Sales</th>\n",
       "      <th>Profit</th>\n",
       "      <th>Market Segment</th>\n",
       "    </tr>\n",
       "  </thead>\n",
       "  <tbody>\n",
       "    <tr>\n",
       "      <th>0</th>\n",
       "      <td>2012-07</td>\n",
       "      <td>2309.650</td>\n",
       "      <td>762.1845</td>\n",
       "      <td>US Consumer</td>\n",
       "    </tr>\n",
       "    <tr>\n",
       "      <th>1</th>\n",
       "      <td>2013-05</td>\n",
       "      <td>3709.395</td>\n",
       "      <td>-288.7650</td>\n",
       "      <td>APAC Corporate</td>\n",
       "    </tr>\n",
       "    <tr>\n",
       "      <th>2</th>\n",
       "      <td>2013-10</td>\n",
       "      <td>5175.171</td>\n",
       "      <td>919.9710</td>\n",
       "      <td>APAC Consumer</td>\n",
       "    </tr>\n",
       "    <tr>\n",
       "      <th>3</th>\n",
       "      <td>2013-01</td>\n",
       "      <td>2892.510</td>\n",
       "      <td>-96.5400</td>\n",
       "      <td>EU Home Office</td>\n",
       "    </tr>\n",
       "    <tr>\n",
       "      <th>4</th>\n",
       "      <td>2013-05</td>\n",
       "      <td>2832.960</td>\n",
       "      <td>311.5200</td>\n",
       "      <td>Africa Consumer</td>\n",
       "    </tr>\n",
       "  </tbody>\n",
       "</table>\n",
       "</div>"
      ],
      "text/plain": [
       "  Order Date     Sales    Profit   Market Segment\n",
       "0    2012-07  2309.650  762.1845      US Consumer\n",
       "1    2013-05  3709.395 -288.7650   APAC Corporate\n",
       "2    2013-10  5175.171  919.9710    APAC Consumer\n",
       "3    2013-01  2892.510  -96.5400   EU Home Office\n",
       "4    2013-05  2832.960  311.5200  Africa Consumer"
      ]
     },
     "execution_count": 5,
     "metadata": {},
     "output_type": "execute_result"
    }
   ],
   "source": [
    "data['Market Segment'] = data['Market'] + ' ' + data['Segment']\n",
    "data = data.drop(['Segment','Market'],axis=1)\n",
    "data.head()"
   ]
  },
  {
   "cell_type": "markdown",
   "id": "934e4d2f",
   "metadata": {
    "papermill": {
     "duration": 0.063689,
     "end_time": "2022-01-23T10:08:12.231908",
     "exception": false,
     "start_time": "2022-01-23T10:08:12.168219",
     "status": "completed"
    },
    "tags": []
   },
   "source": [
    "### Defining a dataset to get aggregated value of profit for each segment "
   ]
  },
  {
   "cell_type": "code",
   "execution_count": 6,
   "id": "55d76aba",
   "metadata": {
    "execution": {
     "iopub.execute_input": "2022-01-23T10:08:12.363827Z",
     "iopub.status.busy": "2022-01-23T10:08:12.363169Z",
     "iopub.status.idle": "2022-01-23T10:08:12.425098Z",
     "shell.execute_reply": "2022-01-23T10:08:12.425557Z",
     "shell.execute_reply.started": "2022-01-23T10:05:55.021398Z"
    },
    "papermill": {
     "duration": 0.12969,
     "end_time": "2022-01-23T10:08:12.425740",
     "exception": false,
     "start_time": "2022-01-23T10:08:12.296050",
     "status": "completed"
    },
    "tags": []
   },
   "outputs": [
    {
     "data": {
      "text/html": [
       "<div>\n",
       "<style scoped>\n",
       "    .dataframe tbody tr th:only-of-type {\n",
       "        vertical-align: middle;\n",
       "    }\n",
       "\n",
       "    .dataframe tbody tr th {\n",
       "        vertical-align: top;\n",
       "    }\n",
       "\n",
       "    .dataframe thead th {\n",
       "        text-align: right;\n",
       "    }\n",
       "</style>\n",
       "<table border=\"1\" class=\"dataframe\">\n",
       "  <thead>\n",
       "    <tr style=\"text-align: right;\">\n",
       "      <th>Market Segment</th>\n",
       "      <th>APAC Consumer</th>\n",
       "      <th>APAC Corporate</th>\n",
       "      <th>APAC Home Office</th>\n",
       "      <th>Africa Consumer</th>\n",
       "      <th>Africa Corporate</th>\n",
       "      <th>Africa Home Office</th>\n",
       "      <th>Canada Consumer</th>\n",
       "      <th>Canada Corporate</th>\n",
       "      <th>Canada Home Office</th>\n",
       "      <th>EMEA Consumer</th>\n",
       "      <th>...</th>\n",
       "      <th>EMEA Home Office</th>\n",
       "      <th>EU Consumer</th>\n",
       "      <th>EU Corporate</th>\n",
       "      <th>EU Home Office</th>\n",
       "      <th>LATAM Consumer</th>\n",
       "      <th>LATAM Corporate</th>\n",
       "      <th>LATAM Home Office</th>\n",
       "      <th>US Consumer</th>\n",
       "      <th>US Corporate</th>\n",
       "      <th>US Home Office</th>\n",
       "    </tr>\n",
       "    <tr>\n",
       "      <th>Order Date</th>\n",
       "      <th></th>\n",
       "      <th></th>\n",
       "      <th></th>\n",
       "      <th></th>\n",
       "      <th></th>\n",
       "      <th></th>\n",
       "      <th></th>\n",
       "      <th></th>\n",
       "      <th></th>\n",
       "      <th></th>\n",
       "      <th></th>\n",
       "      <th></th>\n",
       "      <th></th>\n",
       "      <th></th>\n",
       "      <th></th>\n",
       "      <th></th>\n",
       "      <th></th>\n",
       "      <th></th>\n",
       "      <th></th>\n",
       "      <th></th>\n",
       "      <th></th>\n",
       "    </tr>\n",
       "  </thead>\n",
       "  <tbody>\n",
       "    <tr>\n",
       "      <th>2011-01</th>\n",
       "      <td>2254.4898</td>\n",
       "      <td>-173.7264</td>\n",
       "      <td>230.2656</td>\n",
       "      <td>265.539</td>\n",
       "      <td>520.026</td>\n",
       "      <td>391.515</td>\n",
       "      <td>447.33</td>\n",
       "      <td>12.57</td>\n",
       "      <td>NaN</td>\n",
       "      <td>-2952.594</td>\n",
       "      <td>...</td>\n",
       "      <td>392.526</td>\n",
       "      <td>2259.8670</td>\n",
       "      <td>841.3875</td>\n",
       "      <td>2534.568</td>\n",
       "      <td>540.44312</td>\n",
       "      <td>1021.05924</td>\n",
       "      <td>-26.59744</td>\n",
       "      <td>2465.8368</td>\n",
       "      <td>643.3689</td>\n",
       "      <td>1233.9329</td>\n",
       "    </tr>\n",
       "    <tr>\n",
       "      <th>2011-02</th>\n",
       "      <td>4627.8531</td>\n",
       "      <td>3600.7776</td>\n",
       "      <td>617.5407</td>\n",
       "      <td>-201.888</td>\n",
       "      <td>-31.689</td>\n",
       "      <td>825.606</td>\n",
       "      <td>26.43</td>\n",
       "      <td>9.24</td>\n",
       "      <td>87.99</td>\n",
       "      <td>464.160</td>\n",
       "      <td>...</td>\n",
       "      <td>368.070</td>\n",
       "      <td>-783.9945</td>\n",
       "      <td>2234.4060</td>\n",
       "      <td>162.255</td>\n",
       "      <td>1227.86616</td>\n",
       "      <td>814.03020</td>\n",
       "      <td>-356.80440</td>\n",
       "      <td>1853.5541</td>\n",
       "      <td>421.9256</td>\n",
       "      <td>553.9467</td>\n",
       "    </tr>\n",
       "    <tr>\n",
       "      <th>2011-03</th>\n",
       "      <td>2337.8319</td>\n",
       "      <td>3634.9365</td>\n",
       "      <td>205.1052</td>\n",
       "      <td>919.074</td>\n",
       "      <td>244.437</td>\n",
       "      <td>83.430</td>\n",
       "      <td>82.47</td>\n",
       "      <td>NaN</td>\n",
       "      <td>84.03</td>\n",
       "      <td>706.380</td>\n",
       "      <td>...</td>\n",
       "      <td>-15.570</td>\n",
       "      <td>1273.7100</td>\n",
       "      <td>2206.5960</td>\n",
       "      <td>269.745</td>\n",
       "      <td>2427.39612</td>\n",
       "      <td>178.66400</td>\n",
       "      <td>769.88400</td>\n",
       "      <td>204.2007</td>\n",
       "      <td>127.4696</td>\n",
       "      <td>-268.9314</td>\n",
       "    </tr>\n",
       "    <tr>\n",
       "      <th>2011-04</th>\n",
       "      <td>633.6423</td>\n",
       "      <td>90.7521</td>\n",
       "      <td>603.8478</td>\n",
       "      <td>381.315</td>\n",
       "      <td>941.751</td>\n",
       "      <td>417.618</td>\n",
       "      <td>55.08</td>\n",
       "      <td>6.51</td>\n",
       "      <td>NaN</td>\n",
       "      <td>121.353</td>\n",
       "      <td>...</td>\n",
       "      <td>-456.510</td>\n",
       "      <td>2980.0065</td>\n",
       "      <td>981.1470</td>\n",
       "      <td>130.371</td>\n",
       "      <td>1368.82948</td>\n",
       "      <td>872.64068</td>\n",
       "      <td>-554.22952</td>\n",
       "      <td>1434.8636</td>\n",
       "      <td>494.7315</td>\n",
       "      <td>2723.4358</td>\n",
       "    </tr>\n",
       "    <tr>\n",
       "      <th>2011-05</th>\n",
       "      <td>3838.9500</td>\n",
       "      <td>1028.4489</td>\n",
       "      <td>102.0315</td>\n",
       "      <td>-39.981</td>\n",
       "      <td>490.650</td>\n",
       "      <td>39.180</td>\n",
       "      <td>0.87</td>\n",
       "      <td>NaN</td>\n",
       "      <td>NaN</td>\n",
       "      <td>172.554</td>\n",
       "      <td>...</td>\n",
       "      <td>-33.591</td>\n",
       "      <td>673.0080</td>\n",
       "      <td>1719.0600</td>\n",
       "      <td>443.310</td>\n",
       "      <td>1749.39200</td>\n",
       "      <td>134.87252</td>\n",
       "      <td>-397.95600</td>\n",
       "      <td>833.9433</td>\n",
       "      <td>2912.7976</td>\n",
       "      <td>145.7781</td>\n",
       "    </tr>\n",
       "  </tbody>\n",
       "</table>\n",
       "<p>5 rows × 21 columns</p>\n",
       "</div>"
      ],
      "text/plain": [
       "Market Segment  APAC Consumer  APAC Corporate  APAC Home Office  \\\n",
       "Order Date                                                        \n",
       "2011-01             2254.4898       -173.7264          230.2656   \n",
       "2011-02             4627.8531       3600.7776          617.5407   \n",
       "2011-03             2337.8319       3634.9365          205.1052   \n",
       "2011-04              633.6423         90.7521          603.8478   \n",
       "2011-05             3838.9500       1028.4489          102.0315   \n",
       "\n",
       "Market Segment  Africa Consumer  Africa Corporate  Africa Home Office  \\\n",
       "Order Date                                                              \n",
       "2011-01                 265.539           520.026             391.515   \n",
       "2011-02                -201.888           -31.689             825.606   \n",
       "2011-03                 919.074           244.437              83.430   \n",
       "2011-04                 381.315           941.751             417.618   \n",
       "2011-05                 -39.981           490.650              39.180   \n",
       "\n",
       "Market Segment  Canada Consumer  Canada Corporate  Canada Home Office  \\\n",
       "Order Date                                                              \n",
       "2011-01                  447.33             12.57                 NaN   \n",
       "2011-02                   26.43              9.24               87.99   \n",
       "2011-03                   82.47               NaN               84.03   \n",
       "2011-04                   55.08              6.51                 NaN   \n",
       "2011-05                    0.87               NaN                 NaN   \n",
       "\n",
       "Market Segment  EMEA Consumer  ...  EMEA Home Office  EU Consumer  \\\n",
       "Order Date                     ...                                  \n",
       "2011-01             -2952.594  ...           392.526    2259.8670   \n",
       "2011-02               464.160  ...           368.070    -783.9945   \n",
       "2011-03               706.380  ...           -15.570    1273.7100   \n",
       "2011-04               121.353  ...          -456.510    2980.0065   \n",
       "2011-05               172.554  ...           -33.591     673.0080   \n",
       "\n",
       "Market Segment  EU Corporate  EU Home Office  LATAM Consumer  LATAM Corporate  \\\n",
       "Order Date                                                                      \n",
       "2011-01             841.3875        2534.568       540.44312       1021.05924   \n",
       "2011-02            2234.4060         162.255      1227.86616        814.03020   \n",
       "2011-03            2206.5960         269.745      2427.39612        178.66400   \n",
       "2011-04             981.1470         130.371      1368.82948        872.64068   \n",
       "2011-05            1719.0600         443.310      1749.39200        134.87252   \n",
       "\n",
       "Market Segment  LATAM Home Office  US Consumer  US Corporate  US Home Office  \n",
       "Order Date                                                                    \n",
       "2011-01                 -26.59744    2465.8368      643.3689       1233.9329  \n",
       "2011-02                -356.80440    1853.5541      421.9256        553.9467  \n",
       "2011-03                 769.88400     204.2007      127.4696       -268.9314  \n",
       "2011-04                -554.22952    1434.8636      494.7315       2723.4358  \n",
       "2011-05                -397.95600     833.9433     2912.7976        145.7781  \n",
       "\n",
       "[5 rows x 21 columns]"
      ]
     },
     "execution_count": 6,
     "metadata": {},
     "output_type": "execute_result"
    }
   ],
   "source": [
    "data_p = data.pivot_table(index='Order Date',values='Profit',columns='Market Segment',aggfunc='sum')\n",
    "data_p.head()"
   ]
  },
  {
   "cell_type": "code",
   "execution_count": 7,
   "id": "a22a0d65",
   "metadata": {
    "execution": {
     "iopub.execute_input": "2022-01-23T10:08:12.571684Z",
     "iopub.status.busy": "2022-01-23T10:08:12.571039Z",
     "iopub.status.idle": "2022-01-23T10:08:12.574246Z",
     "shell.execute_reply": "2022-01-23T10:08:12.574698Z",
     "shell.execute_reply.started": "2022-01-23T10:05:55.076233Z"
    },
    "papermill": {
     "duration": 0.083988,
     "end_time": "2022-01-23T10:08:12.574905",
     "exception": false,
     "start_time": "2022-01-23T10:08:12.490917",
     "status": "completed"
    },
    "tags": []
   },
   "outputs": [
    {
     "name": "stdout",
     "output_type": "stream",
     "text": [
      "<class 'pandas.core.frame.DataFrame'>\n",
      "PeriodIndex: 48 entries, 2011-01 to 2014-12\n",
      "Freq: M\n",
      "Data columns (total 21 columns):\n",
      " #   Column              Non-Null Count  Dtype  \n",
      "---  ------              --------------  -----  \n",
      " 0   APAC Consumer       48 non-null     float64\n",
      " 1   APAC Corporate      48 non-null     float64\n",
      " 2   APAC Home Office    48 non-null     float64\n",
      " 3   Africa Consumer     48 non-null     float64\n",
      " 4   Africa Corporate    48 non-null     float64\n",
      " 5   Africa Home Office  48 non-null     float64\n",
      " 6   Canada Consumer     43 non-null     float64\n",
      " 7   Canada Corporate    40 non-null     float64\n",
      " 8   Canada Home Office  28 non-null     float64\n",
      " 9   EMEA Consumer       48 non-null     float64\n",
      " 10  EMEA Corporate      48 non-null     float64\n",
      " 11  EMEA Home Office    47 non-null     float64\n",
      " 12  EU Consumer         48 non-null     float64\n",
      " 13  EU Corporate        48 non-null     float64\n",
      " 14  EU Home Office      48 non-null     float64\n",
      " 15  LATAM Consumer      48 non-null     float64\n",
      " 16  LATAM Corporate     48 non-null     float64\n",
      " 17  LATAM Home Office   48 non-null     float64\n",
      " 18  US Consumer         48 non-null     float64\n",
      " 19  US Corporate        48 non-null     float64\n",
      " 20  US Home Office      48 non-null     float64\n",
      "dtypes: float64(21)\n",
      "memory usage: 8.2 KB\n"
     ]
    }
   ],
   "source": [
    "data_p.info()"
   ]
  },
  {
   "cell_type": "markdown",
   "id": "5ac6d5f9",
   "metadata": {
    "papermill": {
     "duration": 0.065818,
     "end_time": "2022-01-23T10:08:12.706840",
     "exception": false,
     "start_time": "2022-01-23T10:08:12.641022",
     "status": "completed"
    },
    "tags": []
   },
   "source": [
    "### Calculating CoV"
   ]
  },
  {
   "cell_type": "markdown",
   "id": "4ccf9af3",
   "metadata": {
    "papermill": {
     "duration": 0.066237,
     "end_time": "2022-01-23T10:08:12.839362",
     "exception": false,
     "start_time": "2022-01-23T10:08:12.773125",
     "status": "completed"
    },
    "tags": []
   },
   "source": [
    "To find the most consistently profitable market-segment we will be using a measure called \"Coefficient of Variation (CoV)\". The coefficient of variation or CoV is nothing but the ratio of the standard deviation to mean for the data that it is being calculated for."
   ]
  },
  {
   "cell_type": "code",
   "execution_count": 8,
   "id": "6d469799",
   "metadata": {
    "execution": {
     "iopub.execute_input": "2022-01-23T10:08:12.977684Z",
     "iopub.status.busy": "2022-01-23T10:08:12.977024Z",
     "iopub.status.idle": "2022-01-23T10:08:12.980432Z",
     "shell.execute_reply": "2022-01-23T10:08:12.979869Z",
     "shell.execute_reply.started": "2022-01-23T10:05:55.092108Z"
    },
    "papermill": {
     "duration": 0.075115,
     "end_time": "2022-01-23T10:08:12.980589",
     "exception": false,
     "start_time": "2022-01-23T10:08:12.905474",
     "status": "completed"
    },
    "tags": []
   },
   "outputs": [],
   "source": [
    "# Test Train split to calculate the CoV score for the initial 42 months\n",
    "train_len=42\n",
    "train_data = data_p[0:train_len]\n",
    "test_data = data_p[train_len+1:]"
   ]
  },
  {
   "cell_type": "code",
   "execution_count": 9,
   "id": "1d962aff",
   "metadata": {
    "execution": {
     "iopub.execute_input": "2022-01-23T10:08:13.122418Z",
     "iopub.status.busy": "2022-01-23T10:08:13.121690Z",
     "iopub.status.idle": "2022-01-23T10:08:13.125271Z",
     "shell.execute_reply": "2022-01-23T10:08:13.124671Z",
     "shell.execute_reply.started": "2022-01-23T10:05:55.101753Z"
    },
    "papermill": {
     "duration": 0.078254,
     "end_time": "2022-01-23T10:08:13.125408",
     "exception": false,
     "start_time": "2022-01-23T10:08:13.047154",
     "status": "completed"
    },
    "tags": []
   },
   "outputs": [
    {
     "data": {
      "text/plain": [
       "Market Segment\n",
       "APAC Consumer         4400.894243\n",
       "APAC Corporate        2574.919807\n",
       "APAC Home Office      1511.088314\n",
       "Africa Consumer        957.707000\n",
       "Africa Corporate       412.617571\n",
       "Africa Home Office     377.221071\n",
       "Canada Consumer        225.987632\n",
       "Canada Corporate        90.980294\n",
       "Canada Home Office     118.003750\n",
       "EMEA Consumer          423.960286\n",
       "EMEA Corporate         182.642643\n",
       "EMEA Home Office        84.231366\n",
       "EU Consumer           3699.977143\n",
       "EU Corporate          2216.299429\n",
       "EU Home Office        1224.456536\n",
       "LATAM Consumer        2295.555697\n",
       "LATAM Corporate       1122.633016\n",
       "LATAM Home Office      818.398941\n",
       "US Consumer           2686.740912\n",
       "US Corporate          1754.199083\n",
       "US Home Office        1132.065762\n",
       "dtype: float64"
      ]
     },
     "execution_count": 9,
     "metadata": {},
     "output_type": "execute_result"
    }
   ],
   "source": [
    "# Calculating train data mean\n",
    "train_data.mean()"
   ]
  },
  {
   "cell_type": "code",
   "execution_count": 10,
   "id": "5d0907f8",
   "metadata": {
    "execution": {
     "iopub.execute_input": "2022-01-23T10:08:13.264432Z",
     "iopub.status.busy": "2022-01-23T10:08:13.263772Z",
     "iopub.status.idle": "2022-01-23T10:08:13.267409Z",
     "shell.execute_reply": "2022-01-23T10:08:13.266909Z",
     "shell.execute_reply.started": "2022-01-23T10:05:55.117098Z"
    },
    "papermill": {
     "duration": 0.076841,
     "end_time": "2022-01-23T10:08:13.267548",
     "exception": false,
     "start_time": "2022-01-23T10:08:13.190707",
     "status": "completed"
    },
    "tags": []
   },
   "outputs": [
    {
     "data": {
      "text/plain": [
       "Market Segment\n",
       "APAC Consumer         2328.343041\n",
       "APAC Corporate        1381.381825\n",
       "APAC Home Office      1541.976104\n",
       "Africa Consumer       1270.143926\n",
       "Africa Corporate       790.028612\n",
       "Africa Home Office     768.526445\n",
       "Canada Consumer        286.348653\n",
       "Canada Corporate       164.936757\n",
       "Canada Home Office     285.647164\n",
       "EMEA Consumer         1138.184151\n",
       "EMEA Corporate        1174.768016\n",
       "EMEA Home Office       659.373878\n",
       "EU Consumer           2228.977594\n",
       "EU Corporate          1619.735425\n",
       "EU Home Office        1162.551208\n",
       "LATAM Consumer        1588.659231\n",
       "LATAM Corporate       1002.365692\n",
       "LATAM Home Office      968.879479\n",
       "US Consumer           2747.942085\n",
       "US Corporate          1902.991919\n",
       "US Home Office        1287.900959\n",
       "dtype: float64"
      ]
     },
     "execution_count": 10,
     "metadata": {},
     "output_type": "execute_result"
    }
   ],
   "source": [
    "# Calculating train data standard deviation\n",
    "train_data.std()"
   ]
  },
  {
   "cell_type": "code",
   "execution_count": 11,
   "id": "7c901f4d",
   "metadata": {
    "execution": {
     "iopub.execute_input": "2022-01-23T10:08:13.404397Z",
     "iopub.status.busy": "2022-01-23T10:08:13.403420Z",
     "iopub.status.idle": "2022-01-23T10:08:13.413101Z",
     "shell.execute_reply": "2022-01-23T10:08:13.412437Z",
     "shell.execute_reply.started": "2022-01-23T10:05:55.133830Z"
    },
    "papermill": {
     "duration": 0.079856,
     "end_time": "2022-01-23T10:08:13.413256",
     "exception": false,
     "start_time": "2022-01-23T10:08:13.333400",
     "status": "completed"
    },
    "tags": []
   },
   "outputs": [
    {
     "data": {
      "text/plain": [
       "Market Segment\n",
       "APAC Consumer         0.529061\n",
       "APAC Corporate        0.536476\n",
       "APAC Home Office      1.020441\n",
       "Africa Consumer       1.326234\n",
       "Africa Corporate      1.914675\n",
       "Africa Home Office    2.037337\n",
       "Canada Consumer       1.267099\n",
       "Canada Corporate      1.812884\n",
       "Canada Home Office    2.420662\n",
       "EMEA Consumer         2.684648\n",
       "EMEA Corporate        6.432058\n",
       "EMEA Home Office      7.828128\n",
       "EU Consumer           0.602430\n",
       "EU Corporate          0.730829\n",
       "EU Home Office        0.949443\n",
       "LATAM Consumer        0.692059\n",
       "LATAM Corporate       0.892870\n",
       "LATAM Home Office     1.183872\n",
       "US Consumer           1.022779\n",
       "US Corporate          1.084821\n",
       "US Home Office        1.137656\n",
       "dtype: float64"
      ]
     },
     "execution_count": 11,
     "metadata": {},
     "output_type": "execute_result"
    }
   ],
   "source": [
    "# Calculating CoV value\n",
    "train_data.std()/train_data.mean()"
   ]
  },
  {
   "cell_type": "markdown",
   "id": "73ed8d64",
   "metadata": {
    "papermill": {
     "duration": 0.066119,
     "end_time": "2022-01-23T10:08:13.546465",
     "exception": false,
     "start_time": "2022-01-23T10:08:13.480346",
     "status": "completed"
    },
    "tags": []
   },
   "source": [
    "Observation: As we can see APAC Consumer has the least CoV value which means it has the lowest Standard Deviation or highest mean which in turns prove that it is most consistently profitable."
   ]
  },
  {
   "cell_type": "markdown",
   "id": "1e02c7ac",
   "metadata": {
    "papermill": {
     "duration": 0.066391,
     "end_time": "2022-01-23T10:08:13.680477",
     "exception": false,
     "start_time": "2022-01-23T10:08:13.614086",
     "status": "completed"
    },
    "tags": []
   },
   "source": [
    "### Subsetting the rows for APAC Consumer only"
   ]
  },
  {
   "cell_type": "code",
   "execution_count": 12,
   "id": "4c13877a",
   "metadata": {
    "execution": {
     "iopub.execute_input": "2022-01-23T10:08:13.818924Z",
     "iopub.status.busy": "2022-01-23T10:08:13.817914Z",
     "iopub.status.idle": "2022-01-23T10:08:13.838778Z",
     "shell.execute_reply": "2022-01-23T10:08:13.839329Z",
     "shell.execute_reply.started": "2022-01-23T10:05:55.151331Z"
    },
    "papermill": {
     "duration": 0.091278,
     "end_time": "2022-01-23T10:08:13.839495",
     "exception": false,
     "start_time": "2022-01-23T10:08:13.748217",
     "status": "completed"
    },
    "tags": []
   },
   "outputs": [
    {
     "data": {
      "text/html": [
       "<div>\n",
       "<style scoped>\n",
       "    .dataframe tbody tr th:only-of-type {\n",
       "        vertical-align: middle;\n",
       "    }\n",
       "\n",
       "    .dataframe tbody tr th {\n",
       "        vertical-align: top;\n",
       "    }\n",
       "\n",
       "    .dataframe thead th {\n",
       "        text-align: right;\n",
       "    }\n",
       "</style>\n",
       "<table border=\"1\" class=\"dataframe\">\n",
       "  <thead>\n",
       "    <tr style=\"text-align: right;\">\n",
       "      <th></th>\n",
       "      <th>Order Date</th>\n",
       "      <th>Sales</th>\n",
       "      <th>Profit</th>\n",
       "      <th>Market Segment</th>\n",
       "    </tr>\n",
       "  </thead>\n",
       "  <tbody>\n",
       "    <tr>\n",
       "      <th>2</th>\n",
       "      <td>2013-10</td>\n",
       "      <td>5175.171</td>\n",
       "      <td>919.971</td>\n",
       "      <td>APAC Consumer</td>\n",
       "    </tr>\n",
       "    <tr>\n",
       "      <th>6</th>\n",
       "      <td>2011-07</td>\n",
       "      <td>1822.080</td>\n",
       "      <td>564.840</td>\n",
       "      <td>APAC Consumer</td>\n",
       "    </tr>\n",
       "    <tr>\n",
       "      <th>7</th>\n",
       "      <td>2012-04</td>\n",
       "      <td>5244.840</td>\n",
       "      <td>996.480</td>\n",
       "      <td>APAC Consumer</td>\n",
       "    </tr>\n",
       "    <tr>\n",
       "      <th>14</th>\n",
       "      <td>2013-06</td>\n",
       "      <td>3701.520</td>\n",
       "      <td>1036.080</td>\n",
       "      <td>APAC Consumer</td>\n",
       "    </tr>\n",
       "    <tr>\n",
       "      <th>29</th>\n",
       "      <td>2012-02</td>\n",
       "      <td>1878.720</td>\n",
       "      <td>582.360</td>\n",
       "      <td>APAC Consumer</td>\n",
       "    </tr>\n",
       "  </tbody>\n",
       "</table>\n",
       "</div>"
      ],
      "text/plain": [
       "   Order Date     Sales    Profit Market Segment\n",
       "2     2013-10  5175.171   919.971  APAC Consumer\n",
       "6     2011-07  1822.080   564.840  APAC Consumer\n",
       "7     2012-04  5244.840   996.480  APAC Consumer\n",
       "14    2013-06  3701.520  1036.080  APAC Consumer\n",
       "29    2012-02  1878.720   582.360  APAC Consumer"
      ]
     },
     "execution_count": 12,
     "metadata": {},
     "output_type": "execute_result"
    }
   ],
   "source": [
    "data_new = data[data['Market Segment'] == 'APAC Consumer']\n",
    "data_new.head()"
   ]
  },
  {
   "cell_type": "markdown",
   "id": "f8232da1",
   "metadata": {
    "papermill": {
     "duration": 0.067699,
     "end_time": "2022-01-23T10:08:13.974033",
     "exception": false,
     "start_time": "2022-01-23T10:08:13.906334",
     "status": "completed"
    },
    "tags": []
   },
   "source": [
    "### Grouping all the data since we need it in monthly aggregated value"
   ]
  },
  {
   "cell_type": "code",
   "execution_count": 13,
   "id": "d35a2d0a",
   "metadata": {
    "execution": {
     "iopub.execute_input": "2022-01-23T10:08:14.112596Z",
     "iopub.status.busy": "2022-01-23T10:08:14.111612Z",
     "iopub.status.idle": "2022-01-23T10:08:14.125448Z",
     "shell.execute_reply": "2022-01-23T10:08:14.124760Z",
     "shell.execute_reply.started": "2022-01-23T10:05:55.175925Z"
    },
    "papermill": {
     "duration": 0.083692,
     "end_time": "2022-01-23T10:08:14.125586",
     "exception": false,
     "start_time": "2022-01-23T10:08:14.041894",
     "status": "completed"
    },
    "tags": []
   },
   "outputs": [
    {
     "data": {
      "text/html": [
       "<div>\n",
       "<style scoped>\n",
       "    .dataframe tbody tr th:only-of-type {\n",
       "        vertical-align: middle;\n",
       "    }\n",
       "\n",
       "    .dataframe tbody tr th {\n",
       "        vertical-align: top;\n",
       "    }\n",
       "\n",
       "    .dataframe thead th {\n",
       "        text-align: right;\n",
       "    }\n",
       "</style>\n",
       "<table border=\"1\" class=\"dataframe\">\n",
       "  <thead>\n",
       "    <tr style=\"text-align: right;\">\n",
       "      <th></th>\n",
       "      <th>Sales</th>\n",
       "      <th>Profit</th>\n",
       "    </tr>\n",
       "    <tr>\n",
       "      <th>Order Date</th>\n",
       "      <th></th>\n",
       "      <th></th>\n",
       "    </tr>\n",
       "  </thead>\n",
       "  <tbody>\n",
       "    <tr>\n",
       "      <th>2011-01</th>\n",
       "      <td>18821.9898</td>\n",
       "      <td>2254.4898</td>\n",
       "    </tr>\n",
       "    <tr>\n",
       "      <th>2011-02</th>\n",
       "      <td>23313.3531</td>\n",
       "      <td>4627.8531</td>\n",
       "    </tr>\n",
       "    <tr>\n",
       "      <th>2011-03</th>\n",
       "      <td>26518.4919</td>\n",
       "      <td>2337.8319</td>\n",
       "    </tr>\n",
       "    <tr>\n",
       "      <th>2011-04</th>\n",
       "      <td>12046.0923</td>\n",
       "      <td>633.6423</td>\n",
       "    </tr>\n",
       "    <tr>\n",
       "      <th>2011-05</th>\n",
       "      <td>25941.9000</td>\n",
       "      <td>3838.9500</td>\n",
       "    </tr>\n",
       "  </tbody>\n",
       "</table>\n",
       "</div>"
      ],
      "text/plain": [
       "                 Sales     Profit\n",
       "Order Date                       \n",
       "2011-01     18821.9898  2254.4898\n",
       "2011-02     23313.3531  4627.8531\n",
       "2011-03     26518.4919  2337.8319\n",
       "2011-04     12046.0923   633.6423\n",
       "2011-05     25941.9000  3838.9500"
      ]
     },
     "execution_count": 13,
     "metadata": {},
     "output_type": "execute_result"
    }
   ],
   "source": [
    "data_new = data_new.groupby(['Order Date']).sum()\n",
    "data_new.head()"
   ]
  },
  {
   "cell_type": "markdown",
   "id": "867a9622",
   "metadata": {
    "papermill": {
     "duration": 0.06675,
     "end_time": "2022-01-23T10:08:14.259711",
     "exception": false,
     "start_time": "2022-01-23T10:08:14.192961",
     "status": "completed"
    },
    "tags": []
   },
   "source": [
    "### Since it is univariate analysis we will continue with Sales only"
   ]
  },
  {
   "cell_type": "code",
   "execution_count": 14,
   "id": "ec454016",
   "metadata": {
    "execution": {
     "iopub.execute_input": "2022-01-23T10:08:14.398010Z",
     "iopub.status.busy": "2022-01-23T10:08:14.397296Z",
     "iopub.status.idle": "2022-01-23T10:08:14.407458Z",
     "shell.execute_reply": "2022-01-23T10:08:14.408068Z",
     "shell.execute_reply.started": "2022-01-23T10:05:55.192015Z"
    },
    "papermill": {
     "duration": 0.081239,
     "end_time": "2022-01-23T10:08:14.408236",
     "exception": false,
     "start_time": "2022-01-23T10:08:14.326997",
     "status": "completed"
    },
    "scrolled": true,
    "tags": []
   },
   "outputs": [
    {
     "data": {
      "text/html": [
       "<div>\n",
       "<style scoped>\n",
       "    .dataframe tbody tr th:only-of-type {\n",
       "        vertical-align: middle;\n",
       "    }\n",
       "\n",
       "    .dataframe tbody tr th {\n",
       "        vertical-align: top;\n",
       "    }\n",
       "\n",
       "    .dataframe thead th {\n",
       "        text-align: right;\n",
       "    }\n",
       "</style>\n",
       "<table border=\"1\" class=\"dataframe\">\n",
       "  <thead>\n",
       "    <tr style=\"text-align: right;\">\n",
       "      <th></th>\n",
       "      <th>Sales</th>\n",
       "    </tr>\n",
       "    <tr>\n",
       "      <th>Order Date</th>\n",
       "      <th></th>\n",
       "    </tr>\n",
       "  </thead>\n",
       "  <tbody>\n",
       "    <tr>\n",
       "      <th>2011-01</th>\n",
       "      <td>18821.9898</td>\n",
       "    </tr>\n",
       "    <tr>\n",
       "      <th>2011-02</th>\n",
       "      <td>23313.3531</td>\n",
       "    </tr>\n",
       "    <tr>\n",
       "      <th>2011-03</th>\n",
       "      <td>26518.4919</td>\n",
       "    </tr>\n",
       "    <tr>\n",
       "      <th>2011-04</th>\n",
       "      <td>12046.0923</td>\n",
       "    </tr>\n",
       "    <tr>\n",
       "      <th>2011-05</th>\n",
       "      <td>25941.9000</td>\n",
       "    </tr>\n",
       "  </tbody>\n",
       "</table>\n",
       "</div>"
      ],
      "text/plain": [
       "                 Sales\n",
       "Order Date            \n",
       "2011-01     18821.9898\n",
       "2011-02     23313.3531\n",
       "2011-03     26518.4919\n",
       "2011-04     12046.0923\n",
       "2011-05     25941.9000"
      ]
     },
     "execution_count": 14,
     "metadata": {},
     "output_type": "execute_result"
    }
   ],
   "source": [
    "data = data_new.drop('Profit',axis=1)\n",
    "data.head()"
   ]
  },
  {
   "cell_type": "code",
   "execution_count": 15,
   "id": "1f9514de",
   "metadata": {
    "execution": {
     "iopub.execute_input": "2022-01-23T10:08:14.548529Z",
     "iopub.status.busy": "2022-01-23T10:08:14.547877Z",
     "iopub.status.idle": "2022-01-23T10:08:14.561069Z",
     "shell.execute_reply": "2022-01-23T10:08:14.561602Z",
     "shell.execute_reply.started": "2022-01-23T10:05:55.209404Z"
    },
    "papermill": {
     "duration": 0.085514,
     "end_time": "2022-01-23T10:08:14.561785",
     "exception": false,
     "start_time": "2022-01-23T10:08:14.476271",
     "status": "completed"
    },
    "tags": []
   },
   "outputs": [
    {
     "name": "stdout",
     "output_type": "stream",
     "text": [
      "<class 'pandas.core.frame.DataFrame'>\n",
      "DatetimeIndex: 48 entries, 2011-01-01 to 2014-12-01\n",
      "Freq: MS\n",
      "Data columns (total 1 columns):\n",
      " #   Column  Non-Null Count  Dtype  \n",
      "---  ------  --------------  -----  \n",
      " 0   Sales   48 non-null     float64\n",
      "dtypes: float64(1)\n",
      "memory usage: 768.0 bytes\n"
     ]
    }
   ],
   "source": [
    "# Converting Order Date to from DateTime format to timestamp so that it will not through an error\n",
    "# while applying modelling technique.\n",
    "data=data.to_timestamp()\n",
    "data.info()"
   ]
  },
  {
   "cell_type": "code",
   "execution_count": 16,
   "id": "396a0a32",
   "metadata": {
    "execution": {
     "iopub.execute_input": "2022-01-23T10:08:14.705175Z",
     "iopub.status.busy": "2022-01-23T10:08:14.704519Z",
     "iopub.status.idle": "2022-01-23T10:08:15.273072Z",
     "shell.execute_reply": "2022-01-23T10:08:15.272302Z",
     "shell.execute_reply.started": "2022-01-23T10:05:55.224866Z"
    },
    "papermill": {
     "duration": 0.642599,
     "end_time": "2022-01-23T10:08:15.273241",
     "exception": false,
     "start_time": "2022-01-23T10:08:14.630642",
     "status": "completed"
    },
    "tags": []
   },
   "outputs": [
    {
     "data": {
      "image/png": "[encoded data removed]",
      "text/plain": [
       "<Figure size 864x288 with 1 Axes>"
      ]
     },
     "metadata": {
      "needs_background": "light"
     },
     "output_type": "display_data"
    }
   ],
   "source": [
    "#plotting the sales of APAC Consumer\n",
    "data.plot(figsize=(12, 4))\n",
    "plt.legend(loc='best')\n",
    "plt.title('Sales of APACConsumer')\n",
    "plt.show()"
   ]
  },
  {
   "cell_type": "code",
   "execution_count": 17,
   "id": "2295e0cf",
   "metadata": {
    "execution": {
     "iopub.execute_input": "2022-01-23T10:08:15.423674Z",
     "iopub.status.busy": "2022-01-23T10:08:15.422680Z",
     "iopub.status.idle": "2022-01-23T10:08:17.847227Z",
     "shell.execute_reply": "2022-01-23T10:08:17.847722Z",
     "shell.execute_reply.started": "2022-01-23T10:05:55.600459Z"
    },
    "papermill": {
     "duration": 2.502508,
     "end_time": "2022-01-23T10:08:17.847926",
     "exception": false,
     "start_time": "2022-01-23T10:08:15.345418",
     "status": "completed"
    },
    "tags": []
   },
   "outputs": [
    {
     "data": {
      "image/png": "[encoded data removed]",
      "text/plain": [
       "<Figure size 864x576 with 4 Axes>"
      ]
     },
     "metadata": {
      "needs_background": "light"
     },
     "output_type": "display_data"
    }
   ],
   "source": [
    "from pylab import rcParams\n",
    "import statsmodels.api as sm\n",
    "rcParams['figure.figsize'] = 12, 8\n",
    "decomposition = sm.tsa.seasonal_decompose(data.Sales)\n",
    "fig = decomposition.plot()\n",
    "plt.show()"
   ]
  },
  {
   "cell_type": "markdown",
   "id": "3f3c4ac0",
   "metadata": {
    "papermill": {
     "duration": 0.071825,
     "end_time": "2022-01-23T10:08:17.993592",
     "exception": false,
     "start_time": "2022-01-23T10:08:17.921767",
     "status": "completed"
    },
    "tags": []
   },
   "source": [
    "## Forecasting using different algorithms"
   ]
  },
  {
   "cell_type": "code",
   "execution_count": 18,
   "id": "df0395c0",
   "metadata": {
    "execution": {
     "iopub.execute_input": "2022-01-23T10:08:18.146736Z",
     "iopub.status.busy": "2022-01-23T10:08:18.145896Z",
     "iopub.status.idle": "2022-01-23T10:08:18.149059Z",
     "shell.execute_reply": "2022-01-23T10:08:18.148509Z",
     "shell.execute_reply.started": "2022-01-23T10:05:56.439564Z"
    },
    "papermill": {
     "duration": 0.082592,
     "end_time": "2022-01-23T10:08:18.149196",
     "exception": false,
     "start_time": "2022-01-23T10:08:18.066604",
     "status": "completed"
    },
    "tags": []
   },
   "outputs": [],
   "source": [
    "train_len = 42\n",
    "train = data[0:train_len]\n",
    "test = data[train_len:]"
   ]
  },
  {
   "cell_type": "markdown",
   "id": "fa339ee3",
   "metadata": {
    "papermill": {
     "duration": 0.072554,
     "end_time": "2022-01-23T10:08:18.295408",
     "exception": false,
     "start_time": "2022-01-23T10:08:18.222854",
     "status": "completed"
    },
    "tags": []
   },
   "source": [
    "### Simple exponential smoothing"
   ]
  },
  {
   "cell_type": "code",
   "execution_count": 19,
   "id": "54c34c0d",
   "metadata": {
    "execution": {
     "iopub.execute_input": "2022-01-23T10:08:18.458736Z",
     "iopub.status.busy": "2022-01-23T10:08:18.444356Z",
     "iopub.status.idle": "2022-01-23T10:08:18.460677Z",
     "shell.execute_reply": "2022-01-23T10:08:18.461335Z",
     "shell.execute_reply.started": "2022-01-23T10:05:56.446037Z"
    },
    "papermill": {
     "duration": 0.093303,
     "end_time": "2022-01-23T10:08:18.461555",
     "exception": false,
     "start_time": "2022-01-23T10:08:18.368252",
     "status": "completed"
    },
    "tags": []
   },
   "outputs": [],
   "source": [
    "from statsmodels.tsa.holtwinters import SimpleExpSmoothing\n",
    "model = SimpleExpSmoothing(train['Sales'])\n",
    "model_fit = model.fit(smoothing_level=0.2,optimized=False)\n",
    "model_fit.params\n",
    "y_hat_ses = test.copy()\n",
    "y_hat_ses['ses_forecast'] = model_fit.forecast(len(test))"
   ]
  },
  {
   "cell_type": "code",
   "execution_count": 20,
   "id": "f83155cc",
   "metadata": {
    "execution": {
     "iopub.execute_input": "2022-01-23T10:08:18.630052Z",
     "iopub.status.busy": "2022-01-23T10:08:18.613298Z",
     "iopub.status.idle": "2022-01-23T10:08:18.920341Z",
     "shell.execute_reply": "2022-01-23T10:08:18.920879Z",
     "shell.execute_reply.started": "2022-01-23T10:05:56.467570Z"
    },
    "papermill": {
     "duration": 0.386139,
     "end_time": "2022-01-23T10:08:18.921082",
     "exception": false,
     "start_time": "2022-01-23T10:08:18.534943",
     "status": "completed"
    },
    "tags": []
   },
   "outputs": [
    {
     "data": {
      "image/png": "[encoded data removed]",
      "text/plain": [
       "<Figure size 864x288 with 1 Axes>"
      ]
     },
     "metadata": {
      "needs_background": "light"
     },
     "output_type": "display_data"
    }
   ],
   "source": [
    "#Plot train, test and forecast\n",
    "plt.figure(figsize=(12,4))\n",
    "plt.plot(train['Sales'], label='Train')\n",
    "plt.plot(test['Sales'], label='Test')\n",
    "plt.plot(y_hat_ses['ses_forecast'], label='Simple exponential smoothing forecast')\n",
    "plt.legend(loc='best')\n",
    "plt.title('Simple Exponential Smoothing Method')\n",
    "plt.show()"
   ]
  },
  {
   "cell_type": "code",
   "execution_count": 21,
   "id": "7e953e07",
   "metadata": {
    "execution": {
     "iopub.execute_input": "2022-01-23T10:08:19.076879Z",
     "iopub.status.busy": "2022-01-23T10:08:19.076108Z",
     "iopub.status.idle": "2022-01-23T10:08:19.370585Z",
     "shell.execute_reply": "2022-01-23T10:08:19.371114Z",
     "shell.execute_reply.started": "2022-01-23T10:05:56.787580Z"
    },
    "papermill": {
     "duration": 0.374303,
     "end_time": "2022-01-23T10:08:19.371316",
     "exception": false,
     "start_time": "2022-01-23T10:08:18.997013",
     "status": "completed"
    },
    "tags": []
   },
   "outputs": [
    {
     "data": {
      "text/html": [
       "<div>\n",
       "<style scoped>\n",
       "    .dataframe tbody tr th:only-of-type {\n",
       "        vertical-align: middle;\n",
       "    }\n",
       "\n",
       "    .dataframe tbody tr th {\n",
       "        vertical-align: top;\n",
       "    }\n",
       "\n",
       "    .dataframe thead th {\n",
       "        text-align: right;\n",
       "    }\n",
       "</style>\n",
       "<table border=\"1\" class=\"dataframe\">\n",
       "  <thead>\n",
       "    <tr style=\"text-align: right;\">\n",
       "      <th></th>\n",
       "      <th>Method</th>\n",
       "      <th>RMSE</th>\n",
       "      <th>MAPE</th>\n",
       "    </tr>\n",
       "  </thead>\n",
       "  <tbody>\n",
       "    <tr>\n",
       "      <th>0</th>\n",
       "      <td>Simple exponential smoothing forecast</td>\n",
       "      <td>15011.49</td>\n",
       "      <td>15.99</td>\n",
       "    </tr>\n",
       "  </tbody>\n",
       "</table>\n",
       "</div>"
      ],
      "text/plain": [
       "                                  Method      RMSE   MAPE\n",
       "0  Simple exponential smoothing forecast  15011.49  15.99"
      ]
     },
     "execution_count": 21,
     "metadata": {},
     "output_type": "execute_result"
    }
   ],
   "source": [
    "#Calculating RMSE & MAPE\n",
    "from sklearn.metrics import mean_squared_error\n",
    "rmse = np.sqrt(mean_squared_error(test['Sales'], y_hat_ses['ses_forecast'])).round(2)\n",
    "mape = np.round(np.mean(np.abs(test['Sales']-y_hat_ses['ses_forecast'])/test['Sales'])*100,2)\n",
    "results = pd.DataFrame({'Method':['Simple exponential smoothing forecast'],'RMSE': [rmse] ,'MAPE': [mape]})\n",
    "results = results[['Method', 'RMSE', 'MAPE']]\n",
    "results\n"
   ]
  },
  {
   "cell_type": "markdown",
   "id": "9fe2feba",
   "metadata": {
    "papermill": {
     "duration": 0.07388,
     "end_time": "2022-01-23T10:08:19.520448",
     "exception": false,
     "start_time": "2022-01-23T10:08:19.446568",
     "status": "completed"
    },
    "tags": []
   },
   "source": [
    "## Holt’s exponential smoothing"
   ]
  },
  {
   "cell_type": "code",
   "execution_count": 22,
   "id": "b2b48f16",
   "metadata": {
    "execution": {
     "iopub.execute_input": "2022-01-23T10:08:19.711310Z",
     "iopub.status.busy": "2022-01-23T10:08:19.706758Z",
     "iopub.status.idle": "2022-01-23T10:08:19.745664Z",
     "shell.execute_reply": "2022-01-23T10:08:19.746198Z",
     "shell.execute_reply.started": "2022-01-23T10:05:56.808568Z"
    },
    "papermill": {
     "duration": 0.138839,
     "end_time": "2022-01-23T10:08:19.746400",
     "exception": false,
     "start_time": "2022-01-23T10:08:19.607561",
     "status": "completed"
    },
    "tags": []
   },
   "outputs": [
    {
     "name": "stdout",
     "output_type": "stream",
     "text": [
      "{'smoothing_level': 0.2642857142857143, 'smoothing_trend': 0.19220779220779222, 'smoothing_seasonal': nan, 'damping_trend': nan, 'initial_level': 18821.9898, 'initial_trend': 4491.363300000001, 'initial_seasons': array([], dtype=float64), 'use_boxcox': False, 'lamda': None, 'remove_bias': False}\n"
     ]
    },
    {
     "name": "stderr",
     "output_type": "stream",
     "text": [
      "/opt/conda/lib/python3.7/site-packages/statsmodels/tsa/holtwinters/model.py:922: ConvergenceWarning: Optimization failed to converge. Check mle_retvals.\n",
      "  ConvergenceWarning,\n"
     ]
    }
   ],
   "source": [
    "from statsmodels.tsa.holtwinters import ExponentialSmoothing\n",
    "model = ExponentialSmoothing(np.asarray(train['Sales']) ,seasonal_periods=12 ,trend='additive', seasonal=None)\n",
    "model_fit = model.fit(optimized=True)\n",
    "print(model_fit.params)\n",
    "y_hat_holt = test.copy()\n",
    "y_hat_holt['holt_forecast'] = model_fit.forecast(len(test))"
   ]
  },
  {
   "cell_type": "code",
   "execution_count": 23,
   "id": "ed323fe7",
   "metadata": {
    "execution": {
     "iopub.execute_input": "2022-01-23T10:08:19.902222Z",
     "iopub.status.busy": "2022-01-23T10:08:19.901185Z",
     "iopub.status.idle": "2022-01-23T10:08:20.224589Z",
     "shell.execute_reply": "2022-01-23T10:08:20.223865Z",
     "shell.execute_reply.started": "2022-01-23T10:05:56.841943Z"
    },
    "papermill": {
     "duration": 0.402496,
     "end_time": "2022-01-23T10:08:20.224750",
     "exception": false,
     "start_time": "2022-01-23T10:08:19.822254",
     "status": "completed"
    },
    "tags": []
   },
   "outputs": [
    {
     "data": {
      "image/png": "[encoded data removed]",
      "text/plain": [
       "<Figure size 864x288 with 1 Axes>"
      ]
     },
     "metadata": {
      "needs_background": "light"
     },
     "output_type": "display_data"
    }
   ],
   "source": [
    "#Plot train, test and forecast\n",
    "plt.figure(figsize=(12,4))\n",
    "plt.plot(train['Sales'], label='Train')\n",
    "plt.plot(test['Sales'], label='Test')\n",
    "plt.plot(y_hat_holt['holt_forecast'], label='Holt\\'s exponential smoothing forecast')\n",
    "plt.legend(loc='best')\n",
    "plt.title('Holt\\'s Exponential Smoothing Method')\n",
    "plt.show()"
   ]
  },
  {
   "cell_type": "code",
   "execution_count": 24,
   "id": "1da77de9",
   "metadata": {
    "execution": {
     "iopub.execute_input": "2022-01-23T10:08:20.381322Z",
     "iopub.status.busy": "2022-01-23T10:08:20.380389Z",
     "iopub.status.idle": "2022-01-23T10:08:20.397142Z",
     "shell.execute_reply": "2022-01-23T10:08:20.397648Z",
     "shell.execute_reply.started": "2022-01-23T10:05:57.159883Z"
    },
    "papermill": {
     "duration": 0.096646,
     "end_time": "2022-01-23T10:08:20.397896",
     "exception": false,
     "start_time": "2022-01-23T10:08:20.301250",
     "status": "completed"
    },
    "tags": []
   },
   "outputs": [
    {
     "data": {
      "text/html": [
       "<div>\n",
       "<style scoped>\n",
       "    .dataframe tbody tr th:only-of-type {\n",
       "        vertical-align: middle;\n",
       "    }\n",
       "\n",
       "    .dataframe tbody tr th {\n",
       "        vertical-align: top;\n",
       "    }\n",
       "\n",
       "    .dataframe thead th {\n",
       "        text-align: right;\n",
       "    }\n",
       "</style>\n",
       "<table border=\"1\" class=\"dataframe\">\n",
       "  <thead>\n",
       "    <tr style=\"text-align: right;\">\n",
       "      <th></th>\n",
       "      <th>Method</th>\n",
       "      <th>RMSE</th>\n",
       "      <th>MAPE</th>\n",
       "    </tr>\n",
       "  </thead>\n",
       "  <tbody>\n",
       "    <tr>\n",
       "      <th>0</th>\n",
       "      <td>Simple exponential smoothing forecast</td>\n",
       "      <td>15011.49</td>\n",
       "      <td>15.99</td>\n",
       "    </tr>\n",
       "    <tr>\n",
       "      <th>0</th>\n",
       "      <td>Holt's exponential smoothing method</td>\n",
       "      <td>12403.84</td>\n",
       "      <td>14.93</td>\n",
       "    </tr>\n",
       "  </tbody>\n",
       "</table>\n",
       "</div>"
      ],
      "text/plain": [
       "                                  Method      RMSE   MAPE\n",
       "0  Simple exponential smoothing forecast  15011.49  15.99\n",
       "0    Holt's exponential smoothing method  12403.84  14.93"
      ]
     },
     "execution_count": 24,
     "metadata": {},
     "output_type": "execute_result"
    }
   ],
   "source": [
    "#Calculating RMSE & MAPE\n",
    "rmse = np.sqrt(mean_squared_error(test['Sales'], y_hat_holt['holt_forecast'])).round(2)\n",
    "mape = np.round(np.mean(np.abs(test['Sales']-y_hat_holt['holt_forecast'])/test['Sales'])*100,2)\n",
    "tempResults = pd.DataFrame({'Method':['Holt\\'s exponential smoothing method'], 'RMSE': [rmse] ,'MAPE': [mape] })\n",
    "results = pd.concat([results, tempResults])\n",
    "results = results[['Method', 'RMSE', 'MAPE']]\n",
    "results\n",
    "\n"
   ]
  },
  {
   "cell_type": "markdown",
   "id": "e11add00",
   "metadata": {
    "papermill": {
     "duration": 0.077104,
     "end_time": "2022-01-23T10:08:20.553719",
     "exception": false,
     "start_time": "2022-01-23T10:08:20.476615",
     "status": "completed"
    },
    "tags": []
   },
   "source": [
    "## Holt-Winters’ exponential smoothing - Additive"
   ]
  },
  {
   "cell_type": "code",
   "execution_count": 25,
   "id": "01e82833",
   "metadata": {
    "execution": {
     "iopub.execute_input": "2022-01-23T10:08:20.713767Z",
     "iopub.status.busy": "2022-01-23T10:08:20.713099Z",
     "iopub.status.idle": "2022-01-23T10:08:20.846949Z",
     "shell.execute_reply": "2022-01-23T10:08:20.847740Z",
     "shell.execute_reply.started": "2022-01-23T10:05:57.182697Z"
    },
    "papermill": {
     "duration": 0.215911,
     "end_time": "2022-01-23T10:08:20.848041",
     "exception": false,
     "start_time": "2022-01-23T10:08:20.632130",
     "status": "completed"
    },
    "tags": []
   },
   "outputs": [
    {
     "name": "stdout",
     "output_type": "stream",
     "text": [
      "{'smoothing_level': 0.07571428571428572, 'smoothing_trend': 0.010816326530612248, 'smoothing_seasonal': 0.1026984126984127, 'damping_trend': nan, 'initial_level': 34110.965325000005, 'initial_trend': 730.4167145833334, 'initial_seasons': array([-15288.975525, -10797.612225,  -7592.473425, -22064.873025,\n",
      "        -8169.065325,  -3712.033725, -11679.370425, -13779.891825,\n",
      "        -9250.570425,    676.322775,  -4462.610625,  -3556.103925]), 'use_boxcox': False, 'lamda': None, 'remove_bias': False}\n"
     ]
    },
    {
     "name": "stderr",
     "output_type": "stream",
     "text": [
      "/opt/conda/lib/python3.7/site-packages/statsmodels/tsa/holtwinters/model.py:922: ConvergenceWarning: Optimization failed to converge. Check mle_retvals.\n",
      "  ConvergenceWarning,\n"
     ]
    }
   ],
   "source": [
    "y_hat_hwa = test.copy()\n",
    "model = ExponentialSmoothing(np.asarray(train['Sales']) ,seasonal_periods=12 ,trend='add', seasonal='add')\n",
    "model_fit = model.fit(optimized=True)\n",
    "print(model_fit.params)\n",
    "y_hat_hwa['hw_forecast'] = model_fit.forecast(len(test))"
   ]
  },
  {
   "cell_type": "code",
   "execution_count": 26,
   "id": "e0501fe4",
   "metadata": {
    "execution": {
     "iopub.execute_input": "2022-01-23T10:08:21.009791Z",
     "iopub.status.busy": "2022-01-23T10:08:21.009056Z",
     "iopub.status.idle": "2022-01-23T10:08:21.314304Z",
     "shell.execute_reply": "2022-01-23T10:08:21.314794Z",
     "shell.execute_reply.started": "2022-01-23T10:05:57.322946Z"
    },
    "papermill": {
     "duration": 0.387745,
     "end_time": "2022-01-23T10:08:21.315018",
     "exception": false,
     "start_time": "2022-01-23T10:08:20.927273",
     "status": "completed"
    },
    "tags": []
   },
   "outputs": [
    {
     "data": {
      "image/png": "[encoded data removed]",
      "text/plain": [
       "<Figure size 864x288 with 1 Axes>"
      ]
     },
     "metadata": {
      "needs_background": "light"
     },
     "output_type": "display_data"
    }
   ],
   "source": [
    "#Plot train, test and forecast\n",
    "plt.figure(figsize=(12,4))\n",
    "plt.plot( train['Sales'], label='Train')\n",
    "plt.plot(test['Sales'], label='Test')\n",
    "plt.plot(y_hat_hwa['hw_forecast'], label='Holt Winters\\'s additive forecast')\n",
    "plt.legend(loc='best')\n",
    "plt.title('Holt Winters\\' Additive Method')\n",
    "plt.show()"
   ]
  },
  {
   "cell_type": "code",
   "execution_count": 27,
   "id": "9adb2b35",
   "metadata": {
    "execution": {
     "iopub.execute_input": "2022-01-23T10:08:21.498342Z",
     "iopub.status.busy": "2022-01-23T10:08:21.497423Z",
     "iopub.status.idle": "2022-01-23T10:08:21.501167Z",
     "shell.execute_reply": "2022-01-23T10:08:21.501628Z",
     "shell.execute_reply.started": "2022-01-23T10:05:57.636823Z"
    },
    "papermill": {
     "duration": 0.105528,
     "end_time": "2022-01-23T10:08:21.501862",
     "exception": false,
     "start_time": "2022-01-23T10:08:21.396334",
     "status": "completed"
    },
    "tags": []
   },
   "outputs": [
    {
     "data": {
      "text/html": [
       "<div>\n",
       "<style scoped>\n",
       "    .dataframe tbody tr th:only-of-type {\n",
       "        vertical-align: middle;\n",
       "    }\n",
       "\n",
       "    .dataframe tbody tr th {\n",
       "        vertical-align: top;\n",
       "    }\n",
       "\n",
       "    .dataframe thead th {\n",
       "        text-align: right;\n",
       "    }\n",
       "</style>\n",
       "<table border=\"1\" class=\"dataframe\">\n",
       "  <thead>\n",
       "    <tr style=\"text-align: right;\">\n",
       "      <th></th>\n",
       "      <th>Method</th>\n",
       "      <th>RMSE</th>\n",
       "      <th>MAPE</th>\n",
       "    </tr>\n",
       "  </thead>\n",
       "  <tbody>\n",
       "    <tr>\n",
       "      <th>0</th>\n",
       "      <td>Simple exponential smoothing forecast</td>\n",
       "      <td>15011.49</td>\n",
       "      <td>15.99</td>\n",
       "    </tr>\n",
       "    <tr>\n",
       "      <th>0</th>\n",
       "      <td>Holt's exponential smoothing method</td>\n",
       "      <td>12403.84</td>\n",
       "      <td>14.93</td>\n",
       "    </tr>\n",
       "    <tr>\n",
       "      <th>0</th>\n",
       "      <td>Holt Winters' additive method</td>\n",
       "      <td>9306.82</td>\n",
       "      <td>10.17</td>\n",
       "    </tr>\n",
       "  </tbody>\n",
       "</table>\n",
       "</div>"
      ],
      "text/plain": [
       "                                  Method      RMSE   MAPE\n",
       "0  Simple exponential smoothing forecast  15011.49  15.99\n",
       "0    Holt's exponential smoothing method  12403.84  14.93\n",
       "0          Holt Winters' additive method   9306.82  10.17"
      ]
     },
     "execution_count": 27,
     "metadata": {},
     "output_type": "execute_result"
    }
   ],
   "source": [
    "#Calculating RMSE & MAPE\n",
    "rmse = np.sqrt(mean_squared_error(test['Sales'], y_hat_hwa['hw_forecast'])).round(2)\n",
    "mape = np.round(np.mean(np.abs(test['Sales']-y_hat_hwa['hw_forecast'])/test['Sales'])*100,2)\n",
    "tempResults = pd.DataFrame({'Method':['Holt Winters\\' additive method'],'RMSE': [rmse] , 'MAPE': [mape] })\n",
    "results = pd.concat([results, tempResults])\n",
    "results = results[['Method', 'RMSE', 'MAPE']]\n",
    "results\n",
    "\n"
   ]
  },
  {
   "cell_type": "markdown",
   "id": "8906b7f3",
   "metadata": {
    "papermill": {
     "duration": 0.079661,
     "end_time": "2022-01-23T10:08:21.661704",
     "exception": false,
     "start_time": "2022-01-23T10:08:21.582043",
     "status": "completed"
    },
    "tags": []
   },
   "source": [
    "## Holt-Winters’ exponential smoothing - Multiplicative"
   ]
  },
  {
   "cell_type": "code",
   "execution_count": 28,
   "id": "8dcbf656",
   "metadata": {
    "execution": {
     "iopub.execute_input": "2022-01-23T10:08:21.836312Z",
     "iopub.status.busy": "2022-01-23T10:08:21.835609Z",
     "iopub.status.idle": "2022-01-23T10:08:21.969098Z",
     "shell.execute_reply": "2022-01-23T10:08:21.969832Z",
     "shell.execute_reply.started": "2022-01-23T10:05:57.657846Z"
    },
    "papermill": {
     "duration": 0.226035,
     "end_time": "2022-01-23T10:08:21.970088",
     "exception": false,
     "start_time": "2022-01-23T10:08:21.744053",
     "status": "completed"
    },
    "tags": []
   },
   "outputs": [
    {
     "name": "stdout",
     "output_type": "stream",
     "text": [
      "{'smoothing_level': 0.040357142857142855, 'smoothing_trend': 0.0001, 'smoothing_seasonal': 0.13709183673469388, 'damping_trend': nan, 'initial_level': 34110.965325000005, 'initial_trend': 730.4167145833334, 'initial_seasons': array([0.55178708, 0.68345627, 0.77741839, 0.35314428, 0.76051498,\n",
      "       0.8911777 , 0.65760657, 0.5960275 , 0.72880948, 1.01982714,\n",
      "       0.86917372, 0.89574895]), 'use_boxcox': False, 'lamda': None, 'remove_bias': False}\n"
     ]
    },
    {
     "name": "stderr",
     "output_type": "stream",
     "text": [
      "/opt/conda/lib/python3.7/site-packages/statsmodels/tsa/holtwinters/model.py:922: ConvergenceWarning: Optimization failed to converge. Check mle_retvals.\n",
      "  ConvergenceWarning,\n"
     ]
    }
   ],
   "source": [
    "y_hat_hwm = test.copy()\n",
    "model = ExponentialSmoothing(np.asarray(train['Sales']) ,seasonal_periods=12 ,trend='add', seasonal='mul')\n",
    "model_fit = model.fit(optimized=True)\n",
    "print(model_fit.params)\n",
    "y_hat_hwm['hw_forecast'] = model_fit.forecast(len(test))"
   ]
  },
  {
   "cell_type": "code",
   "execution_count": 29,
   "id": "744b40b0",
   "metadata": {
    "execution": {
     "iopub.execute_input": "2022-01-23T10:08:22.139746Z",
     "iopub.status.busy": "2022-01-23T10:08:22.138742Z",
     "iopub.status.idle": "2022-01-23T10:08:22.449030Z",
     "shell.execute_reply": "2022-01-23T10:08:22.449519Z",
     "shell.execute_reply.started": "2022-01-23T10:05:57.800976Z"
    },
    "papermill": {
     "duration": 0.3959,
     "end_time": "2022-01-23T10:08:22.449723",
     "exception": false,
     "start_time": "2022-01-23T10:08:22.053823",
     "status": "completed"
    },
    "tags": []
   },
   "outputs": [
    {
     "data": {
      "image/png": "[encoded data removed]",
      "text/plain": [
       "<Figure size 864x288 with 1 Axes>"
      ]
     },
     "metadata": {
      "needs_background": "light"
     },
     "output_type": "display_data"
    }
   ],
   "source": [
    "#Plot train, test and forecast\n",
    "plt.figure(figsize=(12,4))\n",
    "plt.plot( train['Sales'], label='Train')\n",
    "plt.plot(test['Sales'], label='Test')\n",
    "plt.plot(y_hat_hwm['hw_forecast'], label='Holt Winters\\'s mulitplicative forecast')\n",
    "plt.legend(loc='best')\n",
    "plt.title('Holt Winters\\' Mulitplicative Method')\n",
    "plt.show()"
   ]
  },
  {
   "cell_type": "code",
   "execution_count": 30,
   "id": "9ad8ea99",
   "metadata": {
    "execution": {
     "iopub.execute_input": "2022-01-23T10:08:22.615529Z",
     "iopub.status.busy": "2022-01-23T10:08:22.614739Z",
     "iopub.status.idle": "2022-01-23T10:08:22.632636Z",
     "shell.execute_reply": "2022-01-23T10:08:22.633119Z",
     "shell.execute_reply.started": "2022-01-23T10:05:58.140349Z"
    },
    "papermill": {
     "duration": 0.102472,
     "end_time": "2022-01-23T10:08:22.633311",
     "exception": false,
     "start_time": "2022-01-23T10:08:22.530839",
     "status": "completed"
    },
    "tags": []
   },
   "outputs": [
    {
     "data": {
      "text/html": [
       "<div>\n",
       "<style scoped>\n",
       "    .dataframe tbody tr th:only-of-type {\n",
       "        vertical-align: middle;\n",
       "    }\n",
       "\n",
       "    .dataframe tbody tr th {\n",
       "        vertical-align: top;\n",
       "    }\n",
       "\n",
       "    .dataframe thead th {\n",
       "        text-align: right;\n",
       "    }\n",
       "</style>\n",
       "<table border=\"1\" class=\"dataframe\">\n",
       "  <thead>\n",
       "    <tr style=\"text-align: right;\">\n",
       "      <th></th>\n",
       "      <th>Method</th>\n",
       "      <th>RMSE</th>\n",
       "      <th>MAPE</th>\n",
       "    </tr>\n",
       "  </thead>\n",
       "  <tbody>\n",
       "    <tr>\n",
       "      <th>0</th>\n",
       "      <td>Simple exponential smoothing forecast</td>\n",
       "      <td>15011.49</td>\n",
       "      <td>15.99</td>\n",
       "    </tr>\n",
       "    <tr>\n",
       "      <th>0</th>\n",
       "      <td>Holt's exponential smoothing method</td>\n",
       "      <td>12403.84</td>\n",
       "      <td>14.93</td>\n",
       "    </tr>\n",
       "    <tr>\n",
       "      <th>0</th>\n",
       "      <td>Holt Winters' additive method</td>\n",
       "      <td>9306.82</td>\n",
       "      <td>10.17</td>\n",
       "    </tr>\n",
       "    <tr>\n",
       "      <th>0</th>\n",
       "      <td>Holt Winters' multiplicative method</td>\n",
       "      <td>9423.23</td>\n",
       "      <td>11.43</td>\n",
       "    </tr>\n",
       "  </tbody>\n",
       "</table>\n",
       "</div>"
      ],
      "text/plain": [
       "                                  Method      RMSE   MAPE\n",
       "0  Simple exponential smoothing forecast  15011.49  15.99\n",
       "0    Holt's exponential smoothing method  12403.84  14.93\n",
       "0          Holt Winters' additive method   9306.82  10.17\n",
       "0    Holt Winters' multiplicative method   9423.23  11.43"
      ]
     },
     "execution_count": 30,
     "metadata": {},
     "output_type": "execute_result"
    }
   ],
   "source": [
    "#Calculating RMSE & MAPE\n",
    "rmse = np.sqrt(mean_squared_error(test['Sales'], y_hat_hwm['hw_forecast'])).round(2)\n",
    "mape = np.round(np.mean(np.abs(test['Sales']-y_hat_hwm['hw_forecast'])/test['Sales'])*100,2)\n",
    "tempResults = pd.DataFrame({'Method':['Holt Winters\\' multiplicative method'], 'RMSE': [rmse] ,'MAPE': [mape] })\n",
    "results = pd.concat([results, tempResults])\n",
    "results = results[['Method', 'RMSE', 'MAPE']]\n",
    "results\n"
   ]
  },
  {
   "cell_type": "code",
   "execution_count": 31,
   "id": "86a07a8a",
   "metadata": {
    "execution": {
     "iopub.execute_input": "2022-01-23T10:08:22.804895Z",
     "iopub.status.busy": "2022-01-23T10:08:22.804123Z",
     "iopub.status.idle": "2022-01-23T10:08:22.828092Z",
     "shell.execute_reply": "2022-01-23T10:08:22.828890Z",
     "shell.execute_reply.started": "2022-01-23T10:05:58.167750Z"
    },
    "papermill": {
     "duration": 0.112646,
     "end_time": "2022-01-23T10:08:22.829147",
     "exception": false,
     "start_time": "2022-01-23T10:08:22.716501",
     "status": "completed"
    },
    "tags": []
   },
   "outputs": [
    {
     "name": "stdout",
     "output_type": "stream",
     "text": [
      "ADF Statistic: -3.376024\n",
      "Critical Values @ 0.05: -2.93\n",
      "p-value: 0.011804\n"
     ]
    }
   ],
   "source": [
    "from statsmodels.tsa.stattools import adfuller\n",
    "adf_test = adfuller(data['Sales'])\n",
    "\n",
    "print('ADF Statistic: %f' % adf_test[0])\n",
    "print('Critical Values @ 0.05: %.2f' % adf_test[4]['5%'])\n",
    "print('p-value: %f' % adf_test[1])"
   ]
  },
  {
   "cell_type": "markdown",
   "id": "98c04c51",
   "metadata": {
    "papermill": {
     "duration": 0.082379,
     "end_time": "2022-01-23T10:08:22.995066",
     "exception": false,
     "start_time": "2022-01-23T10:08:22.912687",
     "status": "completed"
    },
    "tags": []
   },
   "source": [
    "For ADF test p-value is <=0.05 , means series is stationary"
   ]
  },
  {
   "cell_type": "code",
   "execution_count": 32,
   "id": "a5942e38",
   "metadata": {
    "execution": {
     "iopub.execute_input": "2022-01-23T10:08:23.165201Z",
     "iopub.status.busy": "2022-01-23T10:08:23.164489Z",
     "iopub.status.idle": "2022-01-23T10:08:23.171457Z",
     "shell.execute_reply": "2022-01-23T10:08:23.172017Z",
     "shell.execute_reply.started": "2022-01-23T10:05:58.186691Z"
    },
    "papermill": {
     "duration": 0.093455,
     "end_time": "2022-01-23T10:08:23.172201",
     "exception": false,
     "start_time": "2022-01-23T10:08:23.078746",
     "status": "completed"
    },
    "tags": []
   },
   "outputs": [
    {
     "name": "stdout",
     "output_type": "stream",
     "text": [
      "KPSS Statistic: 0.577076\n",
      "Critical Values @ 0.05: 0.46\n",
      "p-value: 0.024720\n"
     ]
    }
   ],
   "source": [
    "from statsmodels.tsa.stattools import kpss\n",
    "kpss_test = kpss(data['Sales'])\n",
    "\n",
    "print('KPSS Statistic: %f' % kpss_test[0])\n",
    "print('Critical Values @ 0.05: %.2f' % kpss_test[3]['5%'])\n",
    "print('p-value: %f' % kpss_test[1])"
   ]
  },
  {
   "cell_type": "markdown",
   "id": "d65d24e9",
   "metadata": {
    "papermill": {
     "duration": 0.08179,
     "end_time": "2022-01-23T10:08:23.336738",
     "exception": false,
     "start_time": "2022-01-23T10:08:23.254948",
     "status": "completed"
    },
    "tags": []
   },
   "source": [
    "For KPSS test p-value is not > 0.05 , means series is not stationary"
   ]
  },
  {
   "cell_type": "markdown",
   "id": "61ab78c3",
   "metadata": {
    "papermill": {
     "duration": 0.083715,
     "end_time": "2022-01-23T10:08:23.502593",
     "exception": false,
     "start_time": "2022-01-23T10:08:23.418878",
     "status": "completed"
    },
    "tags": []
   },
   "source": [
    "### Box Cox transformation to make variance constant"
   ]
  },
  {
   "cell_type": "code",
   "execution_count": 33,
   "id": "cbc44554",
   "metadata": {
    "execution": {
     "iopub.execute_input": "2022-01-23T10:08:23.671603Z",
     "iopub.status.busy": "2022-01-23T10:08:23.670839Z",
     "iopub.status.idle": "2022-01-23T10:08:23.976551Z",
     "shell.execute_reply": "2022-01-23T10:08:23.975920Z",
     "shell.execute_reply.started": "2022-01-23T10:05:58.197260Z"
    },
    "papermill": {
     "duration": 0.391308,
     "end_time": "2022-01-23T10:08:23.976692",
     "exception": false,
     "start_time": "2022-01-23T10:08:23.585384",
     "status": "completed"
    },
    "tags": []
   },
   "outputs": [
    {
     "data": {
      "image/png": "[encoded data removed]",
      "text/plain": [
       "<Figure size 864x288 with 1 Axes>"
      ]
     },
     "metadata": {
      "needs_background": "light"
     },
     "output_type": "display_data"
    }
   ],
   "source": [
    "from scipy.stats import boxcox\n",
    "data_boxcox = pd.Series(boxcox(data['Sales'], lmbda=0), index = data.index) # lmbda=0 implies log transformation\n",
    "\n",
    "plt.figure(figsize=(12,4))\n",
    "plt.plot(data_boxcox, label='After Box Cox tranformation')\n",
    "plt.legend(loc='best')\n",
    "plt.title('After Box Cox transform')\n",
    "plt.show()"
   ]
  },
  {
   "cell_type": "markdown",
   "id": "d67be175",
   "metadata": {
    "papermill": {
     "duration": 0.084367,
     "end_time": "2022-01-23T10:08:24.149187",
     "exception": false,
     "start_time": "2022-01-23T10:08:24.064820",
     "status": "completed"
    },
    "tags": []
   },
   "source": [
    "### Differencing to remove trend"
   ]
  },
  {
   "cell_type": "code",
   "execution_count": 34,
   "id": "03c0b8c8",
   "metadata": {
    "execution": {
     "iopub.execute_input": "2022-01-23T10:08:24.339994Z",
     "iopub.status.busy": "2022-01-23T10:08:24.334588Z",
     "iopub.status.idle": "2022-01-23T10:08:24.635517Z",
     "shell.execute_reply": "2022-01-23T10:08:24.636044Z",
     "shell.execute_reply.started": "2022-01-23T10:05:58.516376Z"
    },
    "papermill": {
     "duration": 0.401812,
     "end_time": "2022-01-23T10:08:24.636247",
     "exception": false,
     "start_time": "2022-01-23T10:08:24.234435",
     "status": "completed"
    },
    "tags": []
   },
   "outputs": [
    {
     "data": {
      "image/png": "[encoded data removed]",
      "text/plain": [
       "<Figure size 864x288 with 1 Axes>"
      ]
     },
     "metadata": {
      "needs_background": "light"
     },
     "output_type": "display_data"
    }
   ],
   "source": [
    "data_boxcox_diff = pd.Series(data_boxcox - data_boxcox.shift(), data.index)\n",
    "plt.figure(figsize=(12,4))\n",
    "plt.plot(data_boxcox_diff, label='After Box Cox tranformation and differencing')\n",
    "plt.legend(loc='best')\n",
    "plt.title('After Box Cox transform and differencing')\n",
    "plt.show()"
   ]
  },
  {
   "cell_type": "code",
   "execution_count": 35,
   "id": "0f266185",
   "metadata": {
    "execution": {
     "iopub.execute_input": "2022-01-23T10:08:24.823434Z",
     "iopub.status.busy": "2022-01-23T10:08:24.822655Z",
     "iopub.status.idle": "2022-01-23T10:08:24.826838Z",
     "shell.execute_reply": "2022-01-23T10:08:24.827461Z",
     "shell.execute_reply.started": "2022-01-23T10:05:58.813793Z"
    },
    "papermill": {
     "duration": 0.099372,
     "end_time": "2022-01-23T10:08:24.827663",
     "exception": false,
     "start_time": "2022-01-23T10:08:24.728291",
     "status": "completed"
    },
    "tags": []
   },
   "outputs": [],
   "source": [
    "data_boxcox_diff.dropna(inplace=True)"
   ]
  },
  {
   "cell_type": "code",
   "execution_count": 36,
   "id": "271b1040",
   "metadata": {
    "execution": {
     "iopub.execute_input": "2022-01-23T10:08:25.005538Z",
     "iopub.status.busy": "2022-01-23T10:08:25.004840Z",
     "iopub.status.idle": "2022-01-23T10:08:25.018277Z",
     "shell.execute_reply": "2022-01-23T10:08:25.017458Z",
     "shell.execute_reply.started": "2022-01-23T10:05:58.821132Z"
    },
    "papermill": {
     "duration": 0.102826,
     "end_time": "2022-01-23T10:08:25.018490",
     "exception": false,
     "start_time": "2022-01-23T10:08:24.915664",
     "status": "completed"
    },
    "tags": []
   },
   "outputs": [
    {
     "name": "stdout",
     "output_type": "stream",
     "text": [
      "ADF Statistic: -4.535011\n",
      "Critical Values @ 0.05: -2.95\n",
      "p-value: 0.000170\n"
     ]
    }
   ],
   "source": [
    "adf_test = adfuller(data_boxcox_diff)\n",
    "\n",
    "print('ADF Statistic: %f' % adf_test[0])\n",
    "print('Critical Values @ 0.05: %.2f' % adf_test[4]['5%'])\n",
    "print('p-value: %f' % adf_test[1])"
   ]
  },
  {
   "cell_type": "code",
   "execution_count": 37,
   "id": "195a45c0",
   "metadata": {
    "execution": {
     "iopub.execute_input": "2022-01-23T10:08:25.198332Z",
     "iopub.status.busy": "2022-01-23T10:08:25.197508Z",
     "iopub.status.idle": "2022-01-23T10:08:25.207616Z",
     "shell.execute_reply": "2022-01-23T10:08:25.208378Z",
     "shell.execute_reply.started": "2022-01-23T10:05:58.841529Z"
    },
    "papermill": {
     "duration": 0.10245,
     "end_time": "2022-01-23T10:08:25.208649",
     "exception": false,
     "start_time": "2022-01-23T10:08:25.106199",
     "status": "completed"
    },
    "tags": []
   },
   "outputs": [
    {
     "name": "stdout",
     "output_type": "stream",
     "text": [
      "KPSS Statistic: 0.156456\n",
      "Critical Values @ 0.05: 0.46\n",
      "p-value: 0.100000\n"
     ]
    },
    {
     "name": "stderr",
     "output_type": "stream",
     "text": [
      "/opt/conda/lib/python3.7/site-packages/statsmodels/tsa/stattools.py:1911: InterpolationWarning: The test statistic is outside of the range of p-values available in the\n",
      "look-up table. The actual p-value is greater than the p-value returned.\n",
      "\n",
      "  warn_msg.format(direction=\"greater\"), InterpolationWarning\n"
     ]
    }
   ],
   "source": [
    "kpss_test = kpss(data_boxcox_diff)\n",
    "\n",
    "print('KPSS Statistic: %f' % kpss_test[0])\n",
    "print('Critical Values @ 0.05: %.2f' % kpss_test[3]['5%'])\n",
    "print('p-value: %f' % kpss_test[1])"
   ]
  },
  {
   "cell_type": "markdown",
   "id": "4d8492e3",
   "metadata": {
    "papermill": {
     "duration": 0.087994,
     "end_time": "2022-01-23T10:08:25.385547",
     "exception": false,
     "start_time": "2022-01-23T10:08:25.297553",
     "status": "completed"
    },
    "tags": []
   },
   "source": [
    "For KPSS test p-value is > 0.05, means series is stationary now"
   ]
  },
  {
   "cell_type": "markdown",
   "id": "71f73ad2",
   "metadata": {
    "papermill": {
     "duration": 0.086795,
     "end_time": "2022-01-23T10:08:25.560210",
     "exception": false,
     "start_time": "2022-01-23T10:08:25.473415",
     "status": "completed"
    },
    "tags": []
   },
   "source": [
    "### Autocorrelation function (ACF)"
   ]
  },
  {
   "cell_type": "code",
   "execution_count": 38,
   "id": "97d93010",
   "metadata": {
    "execution": {
     "iopub.execute_input": "2022-01-23T10:08:25.737592Z",
     "iopub.status.busy": "2022-01-23T10:08:25.736924Z",
     "iopub.status.idle": "2022-01-23T10:08:25.956787Z",
     "shell.execute_reply": "2022-01-23T10:08:25.956071Z",
     "shell.execute_reply.started": "2022-01-23T10:05:58.849198Z"
    },
    "papermill": {
     "duration": 0.310066,
     "end_time": "2022-01-23T10:08:25.956974",
     "exception": false,
     "start_time": "2022-01-23T10:08:25.646908",
     "status": "completed"
    },
    "tags": []
   },
   "outputs": [
    {
     "data": {
      "image/png": "[encoded data removed]",
      "text/plain": [
       "<Figure size 864x288 with 1 Axes>"
      ]
     },
     "metadata": {
      "needs_background": "light"
     },
     "output_type": "display_data"
    }
   ],
   "source": [
    "from statsmodels.graphics.tsaplots import plot_acf\n",
    "plt.figure(figsize=(12,4))\n",
    "plot_acf(data_boxcox_diff, ax=plt.gca(), lags = 30)\n",
    "plt.show()"
   ]
  },
  {
   "cell_type": "markdown",
   "id": "4163ba6f",
   "metadata": {
    "papermill": {
     "duration": 0.09004,
     "end_time": "2022-01-23T10:08:26.138316",
     "exception": false,
     "start_time": "2022-01-23T10:08:26.048276",
     "status": "completed"
    },
    "tags": []
   },
   "source": [
    "As you can see, the highest lag after which the\n",
    "autocorrelation dies down is 1. Thus q =1 will be suitable for the problem.\n"
   ]
  },
  {
   "cell_type": "markdown",
   "id": "ea1f3b32",
   "metadata": {
    "papermill": {
     "duration": 0.08827,
     "end_time": "2022-01-23T10:08:26.315963",
     "exception": false,
     "start_time": "2022-01-23T10:08:26.227693",
     "status": "completed"
    },
    "tags": []
   },
   "source": [
    "### Partial autocorrelation function (PACF)"
   ]
  },
  {
   "cell_type": "code",
   "execution_count": 39,
   "id": "c45afa0d",
   "metadata": {
    "execution": {
     "iopub.execute_input": "2022-01-23T10:08:26.496956Z",
     "iopub.status.busy": "2022-01-23T10:08:26.496317Z",
     "iopub.status.idle": "2022-01-23T10:08:26.704766Z",
     "shell.execute_reply": "2022-01-23T10:08:26.704266Z",
     "shell.execute_reply.started": "2022-01-23T10:05:59.072435Z"
    },
    "papermill": {
     "duration": 0.299722,
     "end_time": "2022-01-23T10:08:26.704946",
     "exception": false,
     "start_time": "2022-01-23T10:08:26.405224",
     "status": "completed"
    },
    "tags": []
   },
   "outputs": [
    {
     "data": {
      "image/png": "[encoded data removed]",
      "text/plain": [
       "<Figure size 864x288 with 1 Axes>"
      ]
     },
     "metadata": {
      "needs_background": "light"
     },
     "output_type": "display_data"
    }
   ],
   "source": [
    "from statsmodels.graphics.tsaplots import plot_pacf\n",
    "plt.figure(figsize=(12,4))\n",
    "plot_pacf(data_boxcox_diff, ax=plt.gca(), lags = 22)\n",
    "plt.show()"
   ]
  },
  {
   "cell_type": "markdown",
   "id": "be26465b",
   "metadata": {
    "papermill": {
     "duration": 0.088616,
     "end_time": "2022-01-23T10:08:26.883655",
     "exception": false,
     "start_time": "2022-01-23T10:08:26.795039",
     "status": "completed"
    },
    "tags": []
   },
   "source": [
    "In the PACF plot above, the highest lag for which the partial autocorrelation is significantly high is the p = 1. Thus this value of p will be suitable while using the ARIMA techniques."
   ]
  },
  {
   "cell_type": "code",
   "execution_count": 40,
   "id": "26386311",
   "metadata": {
    "execution": {
     "iopub.execute_input": "2022-01-23T10:08:27.070458Z",
     "iopub.status.busy": "2022-01-23T10:08:27.069737Z",
     "iopub.status.idle": "2022-01-23T10:08:27.072315Z",
     "shell.execute_reply": "2022-01-23T10:08:27.071790Z",
     "shell.execute_reply.started": "2022-01-23T10:05:59.292577Z"
    },
    "papermill": {
     "duration": 0.097694,
     "end_time": "2022-01-23T10:08:27.072456",
     "exception": false,
     "start_time": "2022-01-23T10:08:26.974762",
     "status": "completed"
    },
    "tags": []
   },
   "outputs": [],
   "source": [
    "train_data_boxcox = data_boxcox[:train_len] # Arima and Sarima\n",
    "test_data_boxcox = data_boxcox[train_len:]\n",
    "\n",
    "train_data_boxcox_diff = data_boxcox_diff[:train_len-1] #Rest\n",
    "test_data_boxcox_diff = data_boxcox_diff[train_len-1:]\n",
    "\n",
    "# Differencing and boxcox done on the entire data, hence need to split it again"
   ]
  },
  {
   "cell_type": "markdown",
   "id": "ca193be1",
   "metadata": {
    "papermill": {
     "duration": 0.088117,
     "end_time": "2022-01-23T10:08:27.249019",
     "exception": false,
     "start_time": "2022-01-23T10:08:27.160902",
     "status": "completed"
    },
    "tags": []
   },
   "source": [
    "# AR model\n"
   ]
  },
  {
   "cell_type": "code",
   "execution_count": 41,
   "id": "6884bfc4",
   "metadata": {
    "execution": {
     "iopub.execute_input": "2022-01-23T10:08:27.429856Z",
     "iopub.status.busy": "2022-01-23T10:08:27.429198Z",
     "iopub.status.idle": "2022-01-23T10:08:27.491253Z",
     "shell.execute_reply": "2022-01-23T10:08:27.490674Z",
     "shell.execute_reply.started": "2022-01-23T10:05:59.300283Z"
    },
    "papermill": {
     "duration": 0.153606,
     "end_time": "2022-01-23T10:08:27.491399",
     "exception": false,
     "start_time": "2022-01-23T10:08:27.337793",
     "status": "completed"
    },
    "tags": []
   },
   "outputs": [
    {
     "name": "stdout",
     "output_type": "stream",
     "text": [
      "RUNNING THE L-BFGS-B CODE\n",
      "\n",
      "           * * *\n",
      "\n",
      "Machine precision = 2.220D-16\n",
      " N =            2     M =           12\n",
      "\n",
      "At X0         0 variables are exactly at the bounds\n",
      "\n",
      "At iterate    0    f=  3.79003D-01    |proj g|=  3.11493D-02\n",
      "\n",
      "At iterate    5    f=  3.78937D-01    |proj g|=  1.66533D-08\n",
      "\n",
      "           * * *\n",
      "\n",
      "Tit   = total number of iterations\n",
      "Tnf   = total number of function evaluations\n",
      "Tnint = total number of segments explored during Cauchy searches\n",
      "Skip  = number of BFGS updates skipped\n",
      "Nact  = number of active bounds at final generalized Cauchy point\n",
      "Projg = norm of the final projected gradient\n",
      "F     = final function value\n",
      "\n",
      "           * * *\n",
      "\n",
      "   N    Tit     Tnf  Tnint  Skip  Nact     Projg        F\n",
      "    2      6     12      1     0     0   0.000D+00   3.789D-01\n",
      "  F =  0.37893743431042992     \n",
      "\n",
      "CONVERGENCE: NORM_OF_PROJECTED_GRADIENT_<=_PGTOL            \n",
      "const      0.024255\n",
      "ar.L1.y   -0.406729\n",
      "dtype: float64\n"
     ]
    },
    {
     "name": "stderr",
     "output_type": "stream",
     "text": [
      " This problem is unconstrained.\n"
     ]
    }
   ],
   "source": [
    "from statsmodels.tsa.arima_model import ARIMA\n",
    "model = ARIMA(train_data_boxcox_diff, order=(1, 0, 0)) \n",
    "model_fit = model.fit()\n",
    "print(model_fit.params) # gives the intercept and coefficient values"
   ]
  },
  {
   "cell_type": "code",
   "execution_count": 42,
   "id": "0c4fc93d",
   "metadata": {
    "execution": {
     "iopub.execute_input": "2022-01-23T10:08:27.676623Z",
     "iopub.status.busy": "2022-01-23T10:08:27.675898Z",
     "iopub.status.idle": "2022-01-23T10:08:27.690942Z",
     "shell.execute_reply": "2022-01-23T10:08:27.691427Z",
     "shell.execute_reply.started": "2022-01-23T10:05:59.372130Z"
    },
    "papermill": {
     "duration": 0.109781,
     "end_time": "2022-01-23T10:08:27.691624",
     "exception": false,
     "start_time": "2022-01-23T10:08:27.581843",
     "status": "completed"
    },
    "tags": []
   },
   "outputs": [],
   "source": [
    "# In order to make the forecast, we need to transform the forecasts made to the original form\n",
    "y_hat_ar = data_boxcox_diff.copy()\n",
    "y_hat_ar['ar_forecast_boxcox_diff'] = model_fit.predict(data_boxcox_diff.index.min(), data_boxcox_diff.index.max())\n",
    "y_hat_ar['ar_forecast_boxcox'] = y_hat_ar['ar_forecast_boxcox_diff'].cumsum()\n",
    "y_hat_ar['ar_forecast_boxcox'] = y_hat_ar['ar_forecast_boxcox'].add(data_boxcox[0])\n",
    "y_hat_ar['ar_forecast'] = np.exp(y_hat_ar['ar_forecast_boxcox'])\n",
    "# In order to get back the original time series we do a cumulative sum to remove the differencing and exponentiate the \n",
    "# forecasts in order to remove the effect of the boxcox transformation"
   ]
  },
  {
   "cell_type": "code",
   "execution_count": 43,
   "id": "22da4b81",
   "metadata": {
    "execution": {
     "iopub.execute_input": "2022-01-23T10:08:27.876556Z",
     "iopub.status.busy": "2022-01-23T10:08:27.875867Z",
     "iopub.status.idle": "2022-01-23T10:08:28.140129Z",
     "shell.execute_reply": "2022-01-23T10:08:28.139578Z",
     "shell.execute_reply.started": "2022-01-23T10:05:59.390136Z"
    },
    "papermill": {
     "duration": 0.357981,
     "end_time": "2022-01-23T10:08:28.140303",
     "exception": false,
     "start_time": "2022-01-23T10:08:27.782322",
     "status": "completed"
    },
    "tags": []
   },
   "outputs": [
    {
     "data": {
      "image/png": "[encoded data removed]",
      "text/plain": [
       "<Figure size 864x288 with 1 Axes>"
      ]
     },
     "metadata": {
      "needs_background": "light"
     },
     "output_type": "display_data"
    }
   ],
   "source": [
    "#Plot train, test and forecast\n",
    "plt.figure(figsize=(12,4))\n",
    "plt.plot(train['Sales'], label='Train')\n",
    "plt.plot(test['Sales'], label='Test')\n",
    "plt.plot(y_hat_ar['ar_forecast'][test.index.min():], label='Auto regression forecast')\n",
    "plt.legend(loc='best')\n",
    "plt.title('Auto Regression Method')\n",
    "plt.show()"
   ]
  },
  {
   "cell_type": "code",
   "execution_count": 44,
   "id": "aa157178",
   "metadata": {
    "execution": {
     "iopub.execute_input": "2022-01-23T10:08:28.345769Z",
     "iopub.status.busy": "2022-01-23T10:08:28.345098Z",
     "iopub.status.idle": "2022-01-23T10:08:28.349214Z",
     "shell.execute_reply": "2022-01-23T10:08:28.349684Z",
     "shell.execute_reply.started": "2022-01-23T10:05:59.893278Z"
    },
    "papermill": {
     "duration": 0.118472,
     "end_time": "2022-01-23T10:08:28.349901",
     "exception": false,
     "start_time": "2022-01-23T10:08:28.231429",
     "status": "completed"
    },
    "tags": []
   },
   "outputs": [
    {
     "data": {
      "text/html": [
       "<div>\n",
       "<style scoped>\n",
       "    .dataframe tbody tr th:only-of-type {\n",
       "        vertical-align: middle;\n",
       "    }\n",
       "\n",
       "    .dataframe tbody tr th {\n",
       "        vertical-align: top;\n",
       "    }\n",
       "\n",
       "    .dataframe thead th {\n",
       "        text-align: right;\n",
       "    }\n",
       "</style>\n",
       "<table border=\"1\" class=\"dataframe\">\n",
       "  <thead>\n",
       "    <tr style=\"text-align: right;\">\n",
       "      <th></th>\n",
       "      <th>Method</th>\n",
       "      <th>RMSE</th>\n",
       "      <th>MAPE</th>\n",
       "    </tr>\n",
       "  </thead>\n",
       "  <tbody>\n",
       "    <tr>\n",
       "      <th>0</th>\n",
       "      <td>Simple exponential smoothing forecast</td>\n",
       "      <td>15011.49</td>\n",
       "      <td>15.99</td>\n",
       "    </tr>\n",
       "    <tr>\n",
       "      <th>0</th>\n",
       "      <td>Holt's exponential smoothing method</td>\n",
       "      <td>12403.84</td>\n",
       "      <td>14.93</td>\n",
       "    </tr>\n",
       "    <tr>\n",
       "      <th>0</th>\n",
       "      <td>Holt Winters' additive method</td>\n",
       "      <td>9306.82</td>\n",
       "      <td>10.17</td>\n",
       "    </tr>\n",
       "    <tr>\n",
       "      <th>0</th>\n",
       "      <td>Holt Winters' multiplicative method</td>\n",
       "      <td>9423.23</td>\n",
       "      <td>11.43</td>\n",
       "    </tr>\n",
       "    <tr>\n",
       "      <th>0</th>\n",
       "      <td>Autoregressive (AR) method</td>\n",
       "      <td>10985.28</td>\n",
       "      <td>13.56</td>\n",
       "    </tr>\n",
       "  </tbody>\n",
       "</table>\n",
       "</div>"
      ],
      "text/plain": [
       "                                  Method      RMSE   MAPE\n",
       "0  Simple exponential smoothing forecast  15011.49  15.99\n",
       "0    Holt's exponential smoothing method  12403.84  14.93\n",
       "0          Holt Winters' additive method   9306.82  10.17\n",
       "0    Holt Winters' multiplicative method   9423.23  11.43\n",
       "0             Autoregressive (AR) method  10985.28  13.56"
      ]
     },
     "execution_count": 44,
     "metadata": {},
     "output_type": "execute_result"
    }
   ],
   "source": [
    "#Calculating RMSE & MAPE\n",
    "rmse = np.sqrt(mean_squared_error(test['Sales'], y_hat_ar['ar_forecast'][test.index.min():])).round(2)\n",
    "mape = np.round(np.mean(np.abs(test['Sales']-y_hat_ar['ar_forecast'][test.index.min():])/test['Sales'])*100,2)\n",
    "tempResults = pd.DataFrame({'Method':['Autoregressive (AR) method'], 'RMSE': [rmse] ,'MAPE': [mape] })\n",
    "results = pd.concat([results, tempResults])\n",
    "results = results[['Method', 'RMSE', 'MAPE']]\n",
    "results\n"
   ]
  },
  {
   "cell_type": "markdown",
   "id": "47d5a681",
   "metadata": {
    "papermill": {
     "duration": 0.092177,
     "end_time": "2022-01-23T10:08:28.536922",
     "exception": false,
     "start_time": "2022-01-23T10:08:28.444745",
     "status": "completed"
    },
    "tags": []
   },
   "source": [
    "# MA model\n"
   ]
  },
  {
   "cell_type": "code",
   "execution_count": 45,
   "id": "5e079c33",
   "metadata": {
    "execution": {
     "iopub.execute_input": "2022-01-23T10:08:28.727454Z",
     "iopub.status.busy": "2022-01-23T10:08:28.726753Z",
     "iopub.status.idle": "2022-01-23T10:08:28.782845Z",
     "shell.execute_reply": "2022-01-23T10:08:28.783337Z",
     "shell.execute_reply.started": "2022-01-23T10:05:59.916528Z"
    },
    "papermill": {
     "duration": 0.154531,
     "end_time": "2022-01-23T10:08:28.783519",
     "exception": false,
     "start_time": "2022-01-23T10:08:28.628988",
     "status": "completed"
    },
    "tags": []
   },
   "outputs": [
    {
     "name": "stdout",
     "output_type": "stream",
     "text": [
      "RUNNING THE L-BFGS-B CODE\n",
      "\n",
      "           * * *\n",
      "\n",
      "Machine precision = 2.220D-16\n",
      " N =            2     M =           12\n",
      "\n",
      "At X0         0 variables are exactly at the bounds\n",
      "\n",
      "At iterate    0    f=  2.14970D-01    |proj g|=  7.87627D+00\n",
      "\n",
      "           * * *\n",
      "\n",
      "Tit   = total number of iterations\n",
      "Tnf   = total number of function evaluations\n",
      "Tnint = total number of segments explored during Cauchy searches\n",
      "Skip  = number of BFGS updates skipped\n",
      "Nact  = number of active bounds at final generalized Cauchy point\n",
      "Projg = norm of the final projected gradient\n",
      "F     = final function value\n",
      "\n",
      "           * * *\n",
      "\n",
      "   N    Tit     Tnf  Tnint  Skip  Nact     Projg        F\n",
      "    2      4     18      1     0     0   3.744D-06   1.977D-01\n",
      "  F =  0.19774350585307726     \n",
      "\n",
      "CONVERGENCE: REL_REDUCTION_OF_F_<=_FACTR*EPSMCH             \n",
      "const      0.021415\n",
      "ma.L1.y   -1.000000\n",
      "dtype: float64\n"
     ]
    },
    {
     "name": "stderr",
     "output_type": "stream",
     "text": [
      " This problem is unconstrained.\n",
      "\n",
      " Warning:  more than 10 function and gradient\n",
      "   evaluations in the last line search.  Termination\n",
      "   may possibly be caused by a bad search direction.\n"
     ]
    }
   ],
   "source": [
    "model = ARIMA(train_data_boxcox_diff, order=(0, 0, 1)) \n",
    "model_fit = model.fit()\n",
    "print(model_fit.params)"
   ]
  },
  {
   "cell_type": "code",
   "execution_count": 46,
   "id": "af268ce6",
   "metadata": {
    "execution": {
     "iopub.execute_input": "2022-01-23T10:08:28.973033Z",
     "iopub.status.busy": "2022-01-23T10:08:28.972300Z",
     "iopub.status.idle": "2022-01-23T10:08:28.986383Z",
     "shell.execute_reply": "2022-01-23T10:08:28.986953Z",
     "shell.execute_reply.started": "2022-01-23T10:05:59.985803Z"
    },
    "papermill": {
     "duration": 0.110595,
     "end_time": "2022-01-23T10:08:28.987145",
     "exception": false,
     "start_time": "2022-01-23T10:08:28.876550",
     "status": "completed"
    },
    "tags": []
   },
   "outputs": [],
   "source": [
    "y_hat_ma = data_boxcox_diff.copy()\n",
    "y_hat_ma['ma_forecast_boxcox_diff'] = model_fit.predict(data_boxcox_diff.index.min(), data_boxcox_diff.index.max())\n",
    "y_hat_ma['ma_forecast_boxcox'] = y_hat_ma['ma_forecast_boxcox_diff'].cumsum()\n",
    "y_hat_ma['ma_forecast_boxcox'] = y_hat_ma['ma_forecast_boxcox'].add(data_boxcox[0])\n",
    "y_hat_ma['ma_forecast'] = np.exp(y_hat_ma['ma_forecast_boxcox'])"
   ]
  },
  {
   "cell_type": "code",
   "execution_count": 47,
   "id": "3327aaf2",
   "metadata": {
    "execution": {
     "iopub.execute_input": "2022-01-23T10:08:29.176081Z",
     "iopub.status.busy": "2022-01-23T10:08:29.175421Z",
     "iopub.status.idle": "2022-01-23T10:08:29.441372Z",
     "shell.execute_reply": "2022-01-23T10:08:29.441945Z",
     "shell.execute_reply.started": "2022-01-23T10:06:00.002424Z"
    },
    "papermill": {
     "duration": 0.361182,
     "end_time": "2022-01-23T10:08:29.442119",
     "exception": false,
     "start_time": "2022-01-23T10:08:29.080937",
     "status": "completed"
    },
    "tags": []
   },
   "outputs": [
    {
     "data": {
      "image/png": "[encoded data removed]",
      "text/plain": [
       "<Figure size 864x288 with 1 Axes>"
      ]
     },
     "metadata": {
      "needs_background": "light"
     },
     "output_type": "display_data"
    }
   ],
   "source": [
    "#Plot train, test and forecast\n",
    "plt.figure(figsize=(12,4))\n",
    "plt.plot(data['Sales'][:train_len], label='Train')\n",
    "plt.plot(data['Sales'][train_len:], label='Test')\n",
    "plt.plot(y_hat_ma['ma_forecast'][test.index.min():], label='Moving average forecast')\n",
    "plt.legend(loc='best')\n",
    "plt.title('Moving Average Method')\n",
    "plt.show()"
   ]
  },
  {
   "cell_type": "code",
   "execution_count": 48,
   "id": "2569c014",
   "metadata": {
    "execution": {
     "iopub.execute_input": "2022-01-23T10:08:29.636702Z",
     "iopub.status.busy": "2022-01-23T10:08:29.635919Z",
     "iopub.status.idle": "2022-01-23T10:08:29.655856Z",
     "shell.execute_reply": "2022-01-23T10:08:29.656416Z",
     "shell.execute_reply.started": "2022-01-23T10:06:00.314906Z"
    },
    "papermill": {
     "duration": 0.120201,
     "end_time": "2022-01-23T10:08:29.656592",
     "exception": false,
     "start_time": "2022-01-23T10:08:29.536391",
     "status": "completed"
    },
    "tags": []
   },
   "outputs": [
    {
     "data": {
      "text/html": [
       "<div>\n",
       "<style scoped>\n",
       "    .dataframe tbody tr th:only-of-type {\n",
       "        vertical-align: middle;\n",
       "    }\n",
       "\n",
       "    .dataframe tbody tr th {\n",
       "        vertical-align: top;\n",
       "    }\n",
       "\n",
       "    .dataframe thead th {\n",
       "        text-align: right;\n",
       "    }\n",
       "</style>\n",
       "<table border=\"1\" class=\"dataframe\">\n",
       "  <thead>\n",
       "    <tr style=\"text-align: right;\">\n",
       "      <th></th>\n",
       "      <th>Method</th>\n",
       "      <th>RMSE</th>\n",
       "      <th>MAPE</th>\n",
       "    </tr>\n",
       "  </thead>\n",
       "  <tbody>\n",
       "    <tr>\n",
       "      <th>0</th>\n",
       "      <td>Simple exponential smoothing forecast</td>\n",
       "      <td>15011.49</td>\n",
       "      <td>15.99</td>\n",
       "    </tr>\n",
       "    <tr>\n",
       "      <th>0</th>\n",
       "      <td>Holt's exponential smoothing method</td>\n",
       "      <td>12403.84</td>\n",
       "      <td>14.93</td>\n",
       "    </tr>\n",
       "    <tr>\n",
       "      <th>0</th>\n",
       "      <td>Holt Winters' additive method</td>\n",
       "      <td>9306.82</td>\n",
       "      <td>10.17</td>\n",
       "    </tr>\n",
       "    <tr>\n",
       "      <th>0</th>\n",
       "      <td>Holt Winters' multiplicative method</td>\n",
       "      <td>9423.23</td>\n",
       "      <td>11.43</td>\n",
       "    </tr>\n",
       "    <tr>\n",
       "      <th>0</th>\n",
       "      <td>Autoregressive (AR) method</td>\n",
       "      <td>10985.28</td>\n",
       "      <td>13.56</td>\n",
       "    </tr>\n",
       "    <tr>\n",
       "      <th>0</th>\n",
       "      <td>Moving Average (MA) method</td>\n",
       "      <td>23360.02</td>\n",
       "      <td>33.93</td>\n",
       "    </tr>\n",
       "  </tbody>\n",
       "</table>\n",
       "</div>"
      ],
      "text/plain": [
       "                                  Method      RMSE   MAPE\n",
       "0  Simple exponential smoothing forecast  15011.49  15.99\n",
       "0    Holt's exponential smoothing method  12403.84  14.93\n",
       "0          Holt Winters' additive method   9306.82  10.17\n",
       "0    Holt Winters' multiplicative method   9423.23  11.43\n",
       "0             Autoregressive (AR) method  10985.28  13.56\n",
       "0             Moving Average (MA) method  23360.02  33.93"
      ]
     },
     "execution_count": 48,
     "metadata": {},
     "output_type": "execute_result"
    }
   ],
   "source": [
    "#Calculating RMSE & MAPE\n",
    "rmse = np.sqrt(mean_squared_error(test['Sales'], y_hat_ma['ma_forecast'][test.index.min():])).round(2)\n",
    "mape = np.round(np.mean(np.abs(test['Sales']-y_hat_ma['ma_forecast'][test.index.min():])/test['Sales'])*100,2)\n",
    "tempResults = pd.DataFrame({'Method':['Moving Average (MA) method'], 'RMSE': [rmse] ,'MAPE': [mape] })\n",
    "results = pd.concat([results, tempResults])\n",
    "results = results[['Method', 'RMSE', 'MAPE']]\n",
    "results\n"
   ]
  },
  {
   "cell_type": "markdown",
   "id": "8dcb40a6",
   "metadata": {
    "papermill": {
     "duration": 0.094937,
     "end_time": "2022-01-23T10:08:29.845238",
     "exception": false,
     "start_time": "2022-01-23T10:08:29.750301",
     "status": "completed"
    },
    "tags": []
   },
   "source": [
    "# ARMA model\n"
   ]
  },
  {
   "cell_type": "code",
   "execution_count": 49,
   "id": "c43de78e",
   "metadata": {
    "execution": {
     "iopub.execute_input": "2022-01-23T10:08:30.039199Z",
     "iopub.status.busy": "2022-01-23T10:08:30.038408Z",
     "iopub.status.idle": "2022-01-23T10:08:30.155712Z",
     "shell.execute_reply": "2022-01-23T10:08:30.156240Z",
     "shell.execute_reply.started": "2022-01-23T10:06:00.336559Z"
    },
    "papermill": {
     "duration": 0.215193,
     "end_time": "2022-01-23T10:08:30.156413",
     "exception": false,
     "start_time": "2022-01-23T10:08:29.941220",
     "status": "completed"
    },
    "tags": []
   },
   "outputs": [
    {
     "name": "stdout",
     "output_type": "stream",
     "text": [
      "RUNNING THE L-BFGS-B CODE\n",
      "\n",
      "           * * *\n",
      "\n",
      "Machine precision = 2.220D-16\n",
      " N =            3     M =           12\n",
      "\n",
      "At X0         0 variables are exactly at the bounds\n",
      "\n",
      "At iterate    0    f=  2.03937D-01    |proj g|=  5.22361D+00\n",
      "\n",
      "At iterate    5    f=  1.96128D-01    |proj g|=  4.62608D-01\n",
      "\n",
      "At iterate   10    f=  1.94984D-01    |proj g|=  7.91407D-02\n",
      "\n",
      "At iterate   15    f=  1.94981D-01    |proj g|=  5.27356D-08\n",
      "\n",
      "           * * *\n",
      "\n",
      "Tit   = total number of iterations\n",
      "Tnf   = total number of function evaluations\n",
      "Tnint = total number of segments explored during Cauchy searches\n",
      "Skip  = number of BFGS updates skipped\n",
      "Nact  = number of active bounds at final generalized Cauchy point\n",
      "Projg = norm of the final projected gradient\n",
      "F     = final function value\n",
      "\n",
      "           * * *\n",
      "\n",
      "   N    Tit     Tnf  Tnint  Skip  Nact     Projg        F\n",
      "    3     15     21      1     0     0   5.274D-08   1.950D-01\n",
      "  F =  0.19498083674530511     \n",
      "\n",
      "CONVERGENCE: REL_REDUCTION_OF_F_<=_FACTR*EPSMCH             \n",
      "const      0.02147\n",
      "ar.L1.y    0.07458\n",
      "ma.L1.y   -1.00000\n",
      "dtype: float64\n"
     ]
    },
    {
     "name": "stderr",
     "output_type": "stream",
     "text": [
      " This problem is unconstrained.\n"
     ]
    }
   ],
   "source": [
    "model = ARIMA(train_data_boxcox_diff, order=(1, 0, 1))\n",
    "model_fit = model.fit()\n",
    "print(model_fit.params)"
   ]
  },
  {
   "cell_type": "code",
   "execution_count": 50,
   "id": "dc8e44b1",
   "metadata": {
    "execution": {
     "iopub.execute_input": "2022-01-23T10:08:30.362412Z",
     "iopub.status.busy": "2022-01-23T10:08:30.361348Z",
     "iopub.status.idle": "2022-01-23T10:08:30.363398Z",
     "shell.execute_reply": "2022-01-23T10:08:30.364019Z",
     "shell.execute_reply.started": "2022-01-23T10:06:00.452818Z"
    },
    "papermill": {
     "duration": 0.112884,
     "end_time": "2022-01-23T10:08:30.364205",
     "exception": false,
     "start_time": "2022-01-23T10:08:30.251321",
     "status": "completed"
    },
    "tags": []
   },
   "outputs": [],
   "source": [
    "y_hat_arma = data_boxcox_diff.copy()\n",
    "y_hat_arma['arma_forecast_boxcox_diff'] = model_fit.predict(data_boxcox_diff.index.min(), data_boxcox_diff.index.max())\n",
    "y_hat_arma['arma_forecast_boxcox'] = y_hat_arma['arma_forecast_boxcox_diff'].cumsum()\n",
    "y_hat_arma['arma_forecast_boxcox'] = y_hat_arma['arma_forecast_boxcox'].add(data_boxcox[0])\n",
    "y_hat_arma['arma_forecast'] = np.exp(y_hat_arma['arma_forecast_boxcox'])"
   ]
  },
  {
   "cell_type": "code",
   "execution_count": 51,
   "id": "6a1b266d",
   "metadata": {
    "execution": {
     "iopub.execute_input": "2022-01-23T10:08:30.560584Z",
     "iopub.status.busy": "2022-01-23T10:08:30.559548Z",
     "iopub.status.idle": "2022-01-23T10:08:30.878357Z",
     "shell.execute_reply": "2022-01-23T10:08:30.878880Z",
     "shell.execute_reply.started": "2022-01-23T10:06:00.468842Z"
    },
    "papermill": {
     "duration": 0.418722,
     "end_time": "2022-01-23T10:08:30.879077",
     "exception": false,
     "start_time": "2022-01-23T10:08:30.460355",
     "status": "completed"
    },
    "tags": []
   },
   "outputs": [
    {
     "data": {
      "image/png": "[encoded data removed]",
      "text/plain": [
       "<Figure size 864x288 with 1 Axes>"
      ]
     },
     "metadata": {
      "needs_background": "light"
     },
     "output_type": "display_data"
    }
   ],
   "source": [
    "#Plot train, test and forecast\n",
    "plt.figure(figsize=(12,4))\n",
    "plt.plot( data['Sales'][:train_len-1], label='Train')\n",
    "plt.plot(data['Sales'][train_len-1:], label='Test')\n",
    "plt.plot(y_hat_arma['arma_forecast'][test.index.min():], label='ARMA forecast')\n",
    "plt.legend(loc='best')\n",
    "plt.title('ARMA Method')\n",
    "plt.show()"
   ]
  },
  {
   "cell_type": "code",
   "execution_count": 52,
   "id": "5d5afdda",
   "metadata": {
    "execution": {
     "iopub.execute_input": "2022-01-23T10:08:31.080689Z",
     "iopub.status.busy": "2022-01-23T10:08:31.079618Z",
     "iopub.status.idle": "2022-01-23T10:08:31.100487Z",
     "shell.execute_reply": "2022-01-23T10:08:31.101046Z",
     "shell.execute_reply.started": "2022-01-23T10:06:00.786026Z"
    },
    "papermill": {
     "duration": 0.12472,
     "end_time": "2022-01-23T10:08:31.101255",
     "exception": false,
     "start_time": "2022-01-23T10:08:30.976535",
     "status": "completed"
    },
    "tags": []
   },
   "outputs": [
    {
     "data": {
      "text/html": [
       "<div>\n",
       "<style scoped>\n",
       "    .dataframe tbody tr th:only-of-type {\n",
       "        vertical-align: middle;\n",
       "    }\n",
       "\n",
       "    .dataframe tbody tr th {\n",
       "        vertical-align: top;\n",
       "    }\n",
       "\n",
       "    .dataframe thead th {\n",
       "        text-align: right;\n",
       "    }\n",
       "</style>\n",
       "<table border=\"1\" class=\"dataframe\">\n",
       "  <thead>\n",
       "    <tr style=\"text-align: right;\">\n",
       "      <th></th>\n",
       "      <th>Method</th>\n",
       "      <th>RMSE</th>\n",
       "      <th>MAPE</th>\n",
       "    </tr>\n",
       "  </thead>\n",
       "  <tbody>\n",
       "    <tr>\n",
       "      <th>0</th>\n",
       "      <td>Simple exponential smoothing forecast</td>\n",
       "      <td>15011.49</td>\n",
       "      <td>15.99</td>\n",
       "    </tr>\n",
       "    <tr>\n",
       "      <th>0</th>\n",
       "      <td>Holt's exponential smoothing method</td>\n",
       "      <td>12403.84</td>\n",
       "      <td>14.93</td>\n",
       "    </tr>\n",
       "    <tr>\n",
       "      <th>0</th>\n",
       "      <td>Holt Winters' additive method</td>\n",
       "      <td>9306.82</td>\n",
       "      <td>10.17</td>\n",
       "    </tr>\n",
       "    <tr>\n",
       "      <th>0</th>\n",
       "      <td>Holt Winters' multiplicative method</td>\n",
       "      <td>9423.23</td>\n",
       "      <td>11.43</td>\n",
       "    </tr>\n",
       "    <tr>\n",
       "      <th>0</th>\n",
       "      <td>Autoregressive (AR) method</td>\n",
       "      <td>10985.28</td>\n",
       "      <td>13.56</td>\n",
       "    </tr>\n",
       "    <tr>\n",
       "      <th>0</th>\n",
       "      <td>Moving Average (MA) method</td>\n",
       "      <td>23360.02</td>\n",
       "      <td>33.93</td>\n",
       "    </tr>\n",
       "    <tr>\n",
       "      <th>0</th>\n",
       "      <td>Autoregressive moving average (ARMA) method</td>\n",
       "      <td>22654.32</td>\n",
       "      <td>32.40</td>\n",
       "    </tr>\n",
       "  </tbody>\n",
       "</table>\n",
       "</div>"
      ],
      "text/plain": [
       "                                        Method      RMSE   MAPE\n",
       "0        Simple exponential smoothing forecast  15011.49  15.99\n",
       "0          Holt's exponential smoothing method  12403.84  14.93\n",
       "0                Holt Winters' additive method   9306.82  10.17\n",
       "0          Holt Winters' multiplicative method   9423.23  11.43\n",
       "0                   Autoregressive (AR) method  10985.28  13.56\n",
       "0                   Moving Average (MA) method  23360.02  33.93\n",
       "0  Autoregressive moving average (ARMA) method  22654.32  32.40"
      ]
     },
     "execution_count": 52,
     "metadata": {},
     "output_type": "execute_result"
    }
   ],
   "source": [
    "#Calculating RMSE & MAPE\n",
    "rmse = np.sqrt(mean_squared_error(test['Sales'], y_hat_arma['arma_forecast'][test.index.min():])).round(2)\n",
    "mape = np.round(np.mean(np.abs(test['Sales']-y_hat_arma['arma_forecast'][train_len-1:])/test['Sales'])*100,2)\n",
    "tempResults = pd.DataFrame({'Method':['Autoregressive moving average (ARMA) method'], 'RMSE': [rmse] ,'MAPE': [mape] })\n",
    "results = pd.concat([results, tempResults])\n",
    "results = results[['Method', 'RMSE', 'MAPE']]\n",
    "results"
   ]
  },
  {
   "cell_type": "markdown",
   "id": "bbe863bb",
   "metadata": {
    "papermill": {
     "duration": 0.097904,
     "end_time": "2022-01-23T10:08:31.297298",
     "exception": false,
     "start_time": "2022-01-23T10:08:31.199394",
     "status": "completed"
    },
    "tags": []
   },
   "source": [
    "# ARIMA model\n"
   ]
  },
  {
   "cell_type": "code",
   "execution_count": 53,
   "id": "435e4e94",
   "metadata": {
    "execution": {
     "iopub.execute_input": "2022-01-23T10:08:31.501221Z",
     "iopub.status.busy": "2022-01-23T10:08:31.500171Z",
     "iopub.status.idle": "2022-01-23T10:08:31.616613Z",
     "shell.execute_reply": "2022-01-23T10:08:31.616041Z",
     "shell.execute_reply.started": "2022-01-23T10:06:00.809278Z"
    },
    "papermill": {
     "duration": 0.221204,
     "end_time": "2022-01-23T10:08:31.616773",
     "exception": false,
     "start_time": "2022-01-23T10:08:31.395569",
     "status": "completed"
    },
    "tags": []
   },
   "outputs": [
    {
     "name": "stdout",
     "output_type": "stream",
     "text": [
      "RUNNING THE L-BFGS-B CODE\n",
      "\n",
      "           * * *\n",
      "\n",
      "Machine precision = 2.220D-16\n",
      " N =            3     M =           12\n",
      "\n",
      "At X0         0 variables are exactly at the bounds\n",
      "\n",
      "At iterate    0    f=  2.03937D-01    |proj g|=  5.22361D+00\n",
      "\n",
      "At iterate    5    f=  1.96128D-01    |proj g|=  4.62608D-01\n",
      "\n",
      "At iterate   10    f=  1.94984D-01    |proj g|=  7.91407D-02\n",
      "\n",
      "At iterate   15    f=  1.94981D-01    |proj g|=  5.27356D-08\n",
      "\n",
      "           * * *\n",
      "\n",
      "Tit   = total number of iterations\n",
      "Tnf   = total number of function evaluations\n",
      "Tnint = total number of segments explored during Cauchy searches\n",
      "Skip  = number of BFGS updates skipped\n",
      "Nact  = number of active bounds at final generalized Cauchy point\n",
      "Projg = norm of the final projected gradient\n",
      "F     = final function value\n",
      "\n",
      "           * * *\n",
      "\n",
      "   N    Tit     Tnf  Tnint  Skip  Nact     Projg        F\n",
      "    3     15     21      1     0     0   5.274D-08   1.950D-01\n",
      "  F =  0.19498083674530511     \n",
      "\n",
      "CONVERGENCE: REL_REDUCTION_OF_F_<=_FACTR*EPSMCH             \n",
      "const        0.02147\n",
      "ar.L1.D.y    0.07458\n",
      "ma.L1.D.y   -1.00000\n",
      "dtype: float64\n"
     ]
    },
    {
     "name": "stderr",
     "output_type": "stream",
     "text": [
      " This problem is unconstrained.\n"
     ]
    }
   ],
   "source": [
    "model = ARIMA(train_data_boxcox, order=(1, 1, 1))\n",
    "model_fit = model.fit()\n",
    "print(model_fit.params)"
   ]
  },
  {
   "cell_type": "code",
   "execution_count": 54,
   "id": "eaf606b5",
   "metadata": {
    "execution": {
     "iopub.execute_input": "2022-01-23T10:08:31.820300Z",
     "iopub.status.busy": "2022-01-23T10:08:31.819590Z",
     "iopub.status.idle": "2022-01-23T10:08:31.834281Z",
     "shell.execute_reply": "2022-01-23T10:08:31.834781Z",
     "shell.execute_reply.started": "2022-01-23T10:06:00.932221Z"
    },
    "papermill": {
     "duration": 0.119067,
     "end_time": "2022-01-23T10:08:31.834983",
     "exception": false,
     "start_time": "2022-01-23T10:08:31.715916",
     "status": "completed"
    },
    "tags": []
   },
   "outputs": [],
   "source": [
    "y_hat_arima = data_boxcox_diff.copy()\n",
    "y_hat_arima['arima_forecast_boxcox_diff'] = model_fit.predict(data_boxcox_diff.index.min(), data_boxcox_diff.index.max())\n",
    "y_hat_arima['arima_forecast_boxcox'] = y_hat_arima['arima_forecast_boxcox_diff'].cumsum()\n",
    "y_hat_arima['arima_forecast_boxcox'] = y_hat_arima['arima_forecast_boxcox'].add(data_boxcox[0])\n",
    "y_hat_arima['arima_forecast'] = np.exp(y_hat_arima['arima_forecast_boxcox'])"
   ]
  },
  {
   "cell_type": "code",
   "execution_count": 55,
   "id": "5ed0d138",
   "metadata": {
    "execution": {
     "iopub.execute_input": "2022-01-23T10:08:32.033898Z",
     "iopub.status.busy": "2022-01-23T10:08:32.033247Z",
     "iopub.status.idle": "2022-01-23T10:08:32.301899Z",
     "shell.execute_reply": "2022-01-23T10:08:32.302383Z",
     "shell.execute_reply.started": "2022-01-23T10:06:00.949791Z"
    },
    "papermill": {
     "duration": 0.369919,
     "end_time": "2022-01-23T10:08:32.302583",
     "exception": false,
     "start_time": "2022-01-23T10:08:31.932664",
     "status": "completed"
    },
    "tags": []
   },
   "outputs": [
    {
     "data": {
      "image/png": "[encoded data removed]",
      "text/plain": [
       "<Figure size 864x288 with 1 Axes>"
      ]
     },
     "metadata": {
      "needs_background": "light"
     },
     "output_type": "display_data"
    }
   ],
   "source": [
    "#Plot train, test and forecast\n",
    "plt.figure(figsize=(12,4))\n",
    "plt.plot(train['Sales'], label='Train')\n",
    "plt.plot(test['Sales'], label='Test')\n",
    "plt.plot(y_hat_arima['arima_forecast'][test.index.min():], label='ARIMA forecast')\n",
    "plt.legend(loc='best')\n",
    "plt.title('Autoregressive integrated moving average (ARIMA) method')\n",
    "plt.show()"
   ]
  },
  {
   "cell_type": "code",
   "execution_count": 56,
   "id": "5e73462f",
   "metadata": {
    "execution": {
     "iopub.execute_input": "2022-01-23T10:08:32.511580Z",
     "iopub.status.busy": "2022-01-23T10:08:32.510858Z",
     "iopub.status.idle": "2022-01-23T10:08:32.530427Z",
     "shell.execute_reply": "2022-01-23T10:08:32.530946Z",
     "shell.execute_reply.started": "2022-01-23T10:06:01.259755Z"
    },
    "papermill": {
     "duration": 0.126527,
     "end_time": "2022-01-23T10:08:32.531164",
     "exception": false,
     "start_time": "2022-01-23T10:08:32.404637",
     "status": "completed"
    },
    "tags": []
   },
   "outputs": [
    {
     "data": {
      "text/html": [
       "<div>\n",
       "<style scoped>\n",
       "    .dataframe tbody tr th:only-of-type {\n",
       "        vertical-align: middle;\n",
       "    }\n",
       "\n",
       "    .dataframe tbody tr th {\n",
       "        vertical-align: top;\n",
       "    }\n",
       "\n",
       "    .dataframe thead th {\n",
       "        text-align: right;\n",
       "    }\n",
       "</style>\n",
       "<table border=\"1\" class=\"dataframe\">\n",
       "  <thead>\n",
       "    <tr style=\"text-align: right;\">\n",
       "      <th></th>\n",
       "      <th>Method</th>\n",
       "      <th>RMSE</th>\n",
       "      <th>MAPE</th>\n",
       "    </tr>\n",
       "  </thead>\n",
       "  <tbody>\n",
       "    <tr>\n",
       "      <th>0</th>\n",
       "      <td>Simple exponential smoothing forecast</td>\n",
       "      <td>15011.49</td>\n",
       "      <td>15.99</td>\n",
       "    </tr>\n",
       "    <tr>\n",
       "      <th>0</th>\n",
       "      <td>Holt's exponential smoothing method</td>\n",
       "      <td>12403.84</td>\n",
       "      <td>14.93</td>\n",
       "    </tr>\n",
       "    <tr>\n",
       "      <th>0</th>\n",
       "      <td>Holt Winters' additive method</td>\n",
       "      <td>9306.82</td>\n",
       "      <td>10.17</td>\n",
       "    </tr>\n",
       "    <tr>\n",
       "      <th>0</th>\n",
       "      <td>Holt Winters' multiplicative method</td>\n",
       "      <td>9423.23</td>\n",
       "      <td>11.43</td>\n",
       "    </tr>\n",
       "    <tr>\n",
       "      <th>0</th>\n",
       "      <td>Autoregressive (AR) method</td>\n",
       "      <td>10985.28</td>\n",
       "      <td>13.56</td>\n",
       "    </tr>\n",
       "    <tr>\n",
       "      <th>0</th>\n",
       "      <td>Moving Average (MA) method</td>\n",
       "      <td>23360.02</td>\n",
       "      <td>33.93</td>\n",
       "    </tr>\n",
       "    <tr>\n",
       "      <th>0</th>\n",
       "      <td>Autoregressive moving average (ARMA) method</td>\n",
       "      <td>22654.32</td>\n",
       "      <td>32.40</td>\n",
       "    </tr>\n",
       "    <tr>\n",
       "      <th>0</th>\n",
       "      <td>Autoregressive integrated moving average (ARIM...</td>\n",
       "      <td>10985.28</td>\n",
       "      <td>13.56</td>\n",
       "    </tr>\n",
       "  </tbody>\n",
       "</table>\n",
       "</div>"
      ],
      "text/plain": [
       "                                              Method      RMSE   MAPE\n",
       "0              Simple exponential smoothing forecast  15011.49  15.99\n",
       "0                Holt's exponential smoothing method  12403.84  14.93\n",
       "0                      Holt Winters' additive method   9306.82  10.17\n",
       "0                Holt Winters' multiplicative method   9423.23  11.43\n",
       "0                         Autoregressive (AR) method  10985.28  13.56\n",
       "0                         Moving Average (MA) method  23360.02  33.93\n",
       "0        Autoregressive moving average (ARMA) method  22654.32  32.40\n",
       "0  Autoregressive integrated moving average (ARIM...  10985.28  13.56"
      ]
     },
     "execution_count": 56,
     "metadata": {},
     "output_type": "execute_result"
    }
   ],
   "source": [
    "#Calculating RMSE & MAPE\n",
    "rmse = np.sqrt(mean_squared_error(test['Sales'], y_hat_ar['ar_forecast'][test.index.min():])).round(2)\n",
    "mape = np.round(np.mean(np.abs(test['Sales']-y_hat_ar['ar_forecast'][test.index.min():])/test['Sales'])*100,2)\n",
    "tempResults = pd.DataFrame({'Method':['Autoregressive integrated moving average (ARIMA) method'],'RMSE': [rmse] ,'MAPE': [mape] })\n",
    "results = pd.concat([results, tempResults])\n",
    "results = results[['Method', 'RMSE', 'MAPE']]\n",
    "results\n"
   ]
  },
  {
   "cell_type": "markdown",
   "id": "d2313405",
   "metadata": {
    "papermill": {
     "duration": 0.1025,
     "end_time": "2022-01-23T10:08:32.735345",
     "exception": false,
     "start_time": "2022-01-23T10:08:32.632845",
     "status": "completed"
    },
    "tags": []
   },
   "source": [
    "# SARIMA model"
   ]
  },
  {
   "cell_type": "code",
   "execution_count": 57,
   "id": "774f56fd",
   "metadata": {
    "execution": {
     "iopub.execute_input": "2022-01-23T10:08:32.982119Z",
     "iopub.status.busy": "2022-01-23T10:08:32.980923Z",
     "iopub.status.idle": "2022-01-23T10:08:33.606938Z",
     "shell.execute_reply": "2022-01-23T10:08:33.608431Z",
     "shell.execute_reply.started": "2022-01-23T10:06:01.281812Z"
    },
    "papermill": {
     "duration": 0.750029,
     "end_time": "2022-01-23T10:08:33.608790",
     "exception": false,
     "start_time": "2022-01-23T10:08:32.858761",
     "status": "completed"
    },
    "tags": []
   },
   "outputs": [
    {
     "name": "stdout",
     "output_type": "stream",
     "text": [
      "RUNNING THE L-BFGS-B CODE\n",
      "\n",
      "           * * *\n",
      "\n",
      "Machine precision = 2.220D-16\n",
      " N =            4     M =           10\n",
      "\n",
      "At X0         0 variables are exactly at the bounds\n",
      "\n",
      "At iterate    0    f=  2.96237D-01    |proj g|=  2.47927D-01\n",
      "\n",
      "At iterate    5    f=  2.62025D-01    |proj g|=  3.48913D-01\n",
      "\n",
      "At iterate   10    f=  2.03389D-01    |proj g|=  4.15813D-02\n"
     ]
    },
    {
     "name": "stderr",
     "output_type": "stream",
     "text": [
      " This problem is unconstrained.\n"
     ]
    },
    {
     "name": "stdout",
     "output_type": "stream",
     "text": [
      "\n",
      "At iterate   15    f=  2.01788D-01    |proj g|=  2.12967D-02\n",
      "\n",
      "At iterate   20    f=  2.01417D-01    |proj g|=  6.82336D-03\n",
      "\n",
      "At iterate   25    f=  2.01392D-01    |proj g|=  3.41610D-03\n",
      "\n",
      "           * * *\n",
      "\n",
      "Tit   = total number of iterations\n",
      "Tnf   = total number of function evaluations\n",
      "Tnint = total number of segments explored during Cauchy searches\n",
      "Skip  = number of BFGS updates skipped\n",
      "Nact  = number of active bounds at final generalized Cauchy point\n",
      "Projg = norm of the final projected gradient\n",
      "F     = final function value\n",
      "\n",
      "           * * *\n",
      "\n",
      "   N    Tit     Tnf  Tnint  Skip  Nact     Projg        F\n",
      "    4     29     50      1     0     0   5.482D-04   2.014D-01\n",
      "  F =  0.20138684853363159     \n",
      "\n",
      "CONVERGENCE: REL_REDUCTION_OF_F_<=_FACTR*EPSMCH             \n",
      "ar.L1      -0.039410\n",
      "ma.L1      -0.996757\n",
      "ar.S.L12   -0.485846\n",
      "sigma2      0.082142\n",
      "dtype: float64\n"
     ]
    }
   ],
   "source": [
    "from statsmodels.tsa.statespace.sarimax import SARIMAX\n",
    "\n",
    "model = SARIMAX(train_data_boxcox, order=(1, 1, 1), seasonal_order=(1, 1, 0, 12)) \n",
    "model_fit = model.fit()\n",
    "print(model_fit.params)"
   ]
  },
  {
   "cell_type": "code",
   "execution_count": 58,
   "id": "3e42100a",
   "metadata": {
    "execution": {
     "iopub.execute_input": "2022-01-23T10:08:33.881935Z",
     "iopub.status.busy": "2022-01-23T10:08:33.881227Z",
     "iopub.status.idle": "2022-01-23T10:08:33.895398Z",
     "shell.execute_reply": "2022-01-23T10:08:33.894775Z",
     "shell.execute_reply.started": "2022-01-23T10:06:01.864784Z"
    },
    "papermill": {
     "duration": 0.123961,
     "end_time": "2022-01-23T10:08:33.895569",
     "exception": false,
     "start_time": "2022-01-23T10:08:33.771608",
     "status": "completed"
    },
    "tags": []
   },
   "outputs": [],
   "source": [
    "y_hat_sarima = data_boxcox_diff.copy()\n",
    "y_hat_sarima['sarima_forecast_boxcox'] = model_fit.predict(data_boxcox_diff.index.min(), data_boxcox_diff.index.max())\n",
    "y_hat_sarima['sarima_forecast'] = np.exp(y_hat_sarima['sarima_forecast_boxcox'])"
   ]
  },
  {
   "cell_type": "code",
   "execution_count": 59,
   "id": "cd51c484",
   "metadata": {
    "execution": {
     "iopub.execute_input": "2022-01-23T10:08:34.111372Z",
     "iopub.status.busy": "2022-01-23T10:08:34.110642Z",
     "iopub.status.idle": "2022-01-23T10:08:34.426013Z",
     "shell.execute_reply": "2022-01-23T10:08:34.425447Z",
     "shell.execute_reply.started": "2022-01-23T10:06:01.898505Z"
    },
    "papermill": {
     "duration": 0.428104,
     "end_time": "2022-01-23T10:08:34.426169",
     "exception": false,
     "start_time": "2022-01-23T10:08:33.998065",
     "status": "completed"
    },
    "tags": []
   },
   "outputs": [
    {
     "data": {
      "image/png": "[encoded data removed]",
      "text/plain": [
       "<Figure size 864x288 with 1 Axes>"
      ]
     },
     "metadata": {
      "needs_background": "light"
     },
     "output_type": "display_data"
    }
   ],
   "source": [
    "#Plot train, test and forecast\n",
    "plt.figure(figsize=(12,4))\n",
    "plt.plot(train['Sales'], label='Train')\n",
    "plt.plot(test['Sales'], label='Test')\n",
    "plt.plot(y_hat_sarima['sarima_forecast'][test.index.min():], label='SARIMA forecast')\n",
    "plt.legend(loc='best')\n",
    "plt.title('Seasonal autoregressive integrated moving average (SARIMA) method')\n",
    "plt.show()"
   ]
  },
  {
   "cell_type": "code",
   "execution_count": 60,
   "id": "ff507346",
   "metadata": {
    "execution": {
     "iopub.execute_input": "2022-01-23T10:08:34.646059Z",
     "iopub.status.busy": "2022-01-23T10:08:34.645386Z",
     "iopub.status.idle": "2022-01-23T10:08:34.658252Z",
     "shell.execute_reply": "2022-01-23T10:08:34.658776Z",
     "shell.execute_reply.started": "2022-01-23T10:06:02.235763Z"
    },
    "papermill": {
     "duration": 0.128918,
     "end_time": "2022-01-23T10:08:34.658975",
     "exception": false,
     "start_time": "2022-01-23T10:08:34.530057",
     "status": "completed"
    },
    "tags": []
   },
   "outputs": [
    {
     "data": {
      "text/html": [
       "<div>\n",
       "<style scoped>\n",
       "    .dataframe tbody tr th:only-of-type {\n",
       "        vertical-align: middle;\n",
       "    }\n",
       "\n",
       "    .dataframe tbody tr th {\n",
       "        vertical-align: top;\n",
       "    }\n",
       "\n",
       "    .dataframe thead th {\n",
       "        text-align: right;\n",
       "    }\n",
       "</style>\n",
       "<table border=\"1\" class=\"dataframe\">\n",
       "  <thead>\n",
       "    <tr style=\"text-align: right;\">\n",
       "      <th></th>\n",
       "      <th>Method</th>\n",
       "      <th>RMSE</th>\n",
       "      <th>MAPE</th>\n",
       "    </tr>\n",
       "  </thead>\n",
       "  <tbody>\n",
       "    <tr>\n",
       "      <th>0</th>\n",
       "      <td>Simple exponential smoothing forecast</td>\n",
       "      <td>15011.49</td>\n",
       "      <td>15.99</td>\n",
       "    </tr>\n",
       "    <tr>\n",
       "      <th>0</th>\n",
       "      <td>Holt's exponential smoothing method</td>\n",
       "      <td>12403.84</td>\n",
       "      <td>14.93</td>\n",
       "    </tr>\n",
       "    <tr>\n",
       "      <th>0</th>\n",
       "      <td>Holt Winters' additive method</td>\n",
       "      <td>9306.82</td>\n",
       "      <td>10.17</td>\n",
       "    </tr>\n",
       "    <tr>\n",
       "      <th>0</th>\n",
       "      <td>Holt Winters' multiplicative method</td>\n",
       "      <td>9423.23</td>\n",
       "      <td>11.43</td>\n",
       "    </tr>\n",
       "    <tr>\n",
       "      <th>0</th>\n",
       "      <td>Autoregressive (AR) method</td>\n",
       "      <td>10985.28</td>\n",
       "      <td>13.56</td>\n",
       "    </tr>\n",
       "    <tr>\n",
       "      <th>0</th>\n",
       "      <td>Moving Average (MA) method</td>\n",
       "      <td>23360.02</td>\n",
       "      <td>33.93</td>\n",
       "    </tr>\n",
       "    <tr>\n",
       "      <th>0</th>\n",
       "      <td>Autoregressive moving average (ARMA) method</td>\n",
       "      <td>22654.32</td>\n",
       "      <td>32.40</td>\n",
       "    </tr>\n",
       "    <tr>\n",
       "      <th>0</th>\n",
       "      <td>Autoregressive integrated moving average (ARIM...</td>\n",
       "      <td>10985.28</td>\n",
       "      <td>13.56</td>\n",
       "    </tr>\n",
       "    <tr>\n",
       "      <th>0</th>\n",
       "      <td>Seasonal autoregressive integrated moving aver...</td>\n",
       "      <td>9985.65</td>\n",
       "      <td>12.78</td>\n",
       "    </tr>\n",
       "  </tbody>\n",
       "</table>\n",
       "</div>"
      ],
      "text/plain": [
       "                                              Method      RMSE   MAPE\n",
       "0              Simple exponential smoothing forecast  15011.49  15.99\n",
       "0                Holt's exponential smoothing method  12403.84  14.93\n",
       "0                      Holt Winters' additive method   9306.82  10.17\n",
       "0                Holt Winters' multiplicative method   9423.23  11.43\n",
       "0                         Autoregressive (AR) method  10985.28  13.56\n",
       "0                         Moving Average (MA) method  23360.02  33.93\n",
       "0        Autoregressive moving average (ARMA) method  22654.32  32.40\n",
       "0  Autoregressive integrated moving average (ARIM...  10985.28  13.56\n",
       "0  Seasonal autoregressive integrated moving aver...   9985.65  12.78"
      ]
     },
     "execution_count": 60,
     "metadata": {},
     "output_type": "execute_result"
    }
   ],
   "source": [
    "#Calculating RMSE & MAPE\n",
    "rmse = np.sqrt(mean_squared_error(test['Sales'], y_hat_sarima['sarima_forecast'][test.index.min():])).round(2)\n",
    "mape = np.round(np.mean(np.abs(test['Sales']-y_hat_sarima['sarima_forecast'][test.index.min():])/test['Sales'])*100,2)\n",
    "tempResults = pd.DataFrame({'Method':['Seasonal autoregressive integrated moving average (SARIMA) method'], 'RMSE': [rmse] ,'MAPE': [mape] })\n",
    "results = pd.concat([results, tempResults])\n",
    "results = results[['Method', 'RMSE', 'MAPE']]\n",
    "results\n"
   ]
  },
  {
   "cell_type": "markdown",
   "id": "675698eb",
   "metadata": {
    "papermill": {
     "duration": 0.104183,
     "end_time": "2022-01-23T10:08:34.867365",
     "exception": false,
     "start_time": "2022-01-23T10:08:34.763182",
     "status": "completed"
    },
    "tags": []
   },
   "source": [
    "Observation: As we can see that RMSE and MAPE values of Holt Winters' additive method, Holt Winters' multiplicative method and SARIMA are the least. But as per the forecast plot, we can see much better forecasting in SARIMA Plot. So if we look only into smoothing techniques then Holt Winters' additive forecasting method will be the best and for the ARIMA set of techniques SARIMA forecasting method will be the best. But overall SARIMA forecasting method will be the best forecasting method for this case study."
   ]
  }
 ],
 "metadata": {
  "kernelspec": {
   "display_name": "Python 3",
   "language": "python",
   "name": "python3"
  },
  "language_info": {
   "codemirror_mode": {
    "name": "ipython",
    "version": 3
   },
   "file_extension": ".py",
   "mimetype": "text/x-python",
   "name": "python",
   "nbconvert_exporter": "python",
   "pygments_lexer": "ipython3",
   "version": "3.7.12"
  },
  "papermill": {
   "default_parameters": {},
   "duration": 36.18962,
   "end_time": "2022-01-23T10:08:35.984299",
   "environment_variables": {},
   "exception": null,
   "input_path": "__notebook__.ipynb",
   "output_path": "__notebook__.ipynb",
   "parameters": {},
   "start_time": "2022-01-23T10:07:59.794679",
   "version": "2.3.3"
  }
 },
 "nbformat": 4,
 "nbformat_minor": 5
}
